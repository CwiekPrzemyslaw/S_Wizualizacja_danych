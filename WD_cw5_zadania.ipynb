{
  "cells": [
    {
      "cell_type": "code",
      "execution_count": 250,
      "id": "920a5938",
      "metadata": {
        "id": "920a5938"
      },
      "outputs": [],
      "source": [
        "# wczytanie bibliotek\n",
        "\n",
        "import numpy as np\n",
        "\n",
        "import pandas as pd\n",
        "import plotly.express as px\n",
        "import plotly.graph_objects as go"
      ]
    },
    {
      "cell_type": "code",
      "execution_count": 251,
      "id": "f9fe4868",
      "metadata": {
        "id": "f9fe4868"
      },
      "outputs": [],
      "source": [
        "# Zbiory danych\n",
        "\n",
        "x = list(range(1,101))\n",
        "y2 = np.log2(x)\n",
        "y10 = np.log10(x)\n",
        "\n",
        "quiz = pd.DataFrame({'Odpowiedź' : ['Tak','Nie'],\n",
        "                             'Wartość' : [4532,2497]})\n",
        "\n",
        "sprzedaz = pd.DataFrame({'Miasto': ['Katowice', 'Kraków', 'Wrocław'],\n",
        "                           'Desktop': [2, 7, 3],\n",
        "                           'Laptop': [12, 7, 13]})\n",
        "\n",
        "gap =  px.data.gapminder()\n",
        "gap =  px.data.gapminder()\n",
        "\n",
        "\n",
        "# Schematy\n",
        "schematy = ['ggplot2', 'seaborn', 'simple_white', 'plotly',\n",
        "         'plotly_white', 'plotly_dark', 'presentation', 'xgridoff',\n",
        "         'ygridoff', 'gridon', 'none']"
      ]
    },
    {
      "cell_type": "code",
      "execution_count": 252,
      "id": "55e04433",
      "metadata": {},
      "outputs": [
        {
          "name": "stdout",
          "output_type": "stream",
          "text": [
            "     Miasto  Desktop  Laptop\n",
            "0  Katowice        2      12\n",
            "1    Kraków        7       7\n",
            "2   Wrocław        3      13\n"
          ]
        }
      ],
      "source": [
        "print(sprzedaz)"
      ]
    },
    {
      "cell_type": "markdown",
      "id": "74119abb",
      "metadata": {
        "id": "74119abb"
      },
      "source": [
        "Zadanie 1.\n",
        "Napisz program, który utworzy wykres kołowy prezentujący odpowiedzi quizu (`Tak`, `Nie`)."
      ]
    },
    {
      "cell_type": "code",
      "execution_count": 253,
      "id": "7549db44",
      "metadata": {
        "colab": {
          "base_uri": "https://localhost:8080/",
          "height": 542
        },
        "id": "7549db44",
        "outputId": "b894edd7-9f77-4aa3-9df5-b9d95b215cfd"
      },
      "outputs": [
        {
          "data": {
            "application/vnd.plotly.v1+json": {
              "config": {
                "plotlyServerURL": "https://plot.ly"
              },
              "data": [
                {
                  "domain": {
                    "x": [
                      0,
                      1
                    ],
                    "y": [
                      0,
                      1
                    ]
                  },
                  "hovertemplate": "Odpowiedź=%{label}<br>Wartość=%{value}<extra></extra>",
                  "labels": [
                    "Tak",
                    "Nie"
                  ],
                  "legendgroup": "",
                  "marker": {
                    "colors": [
                      "rgb(34, 139, 34)",
                      "rgb(220, 20, 60)"
                    ],
                    "line": {
                      "color": "white",
                      "width": 2
                    }
                  },
                  "name": "",
                  "showlegend": true,
                  "textinfo": "label",
                  "textposition": "inside",
                  "type": "pie",
                  "values": [
                    4532,
                    2497
                  ]
                }
              ],
              "layout": {
                "font": {
                  "color": "white",
                  "size": 24
                },
                "legend": {
                  "tracegroupgap": 0
                },
                "showlegend": false,
                "template": {
                  "data": {
                    "bar": [
                      {
                        "error_x": {
                          "color": "#2a3f5f"
                        },
                        "error_y": {
                          "color": "#2a3f5f"
                        },
                        "marker": {
                          "line": {
                            "color": "#E5ECF6",
                            "width": 0.5
                          },
                          "pattern": {
                            "fillmode": "overlay",
                            "size": 10,
                            "solidity": 0.2
                          }
                        },
                        "type": "bar"
                      }
                    ],
                    "barpolar": [
                      {
                        "marker": {
                          "line": {
                            "color": "#E5ECF6",
                            "width": 0.5
                          },
                          "pattern": {
                            "fillmode": "overlay",
                            "size": 10,
                            "solidity": 0.2
                          }
                        },
                        "type": "barpolar"
                      }
                    ],
                    "carpet": [
                      {
                        "aaxis": {
                          "endlinecolor": "#2a3f5f",
                          "gridcolor": "white",
                          "linecolor": "white",
                          "minorgridcolor": "white",
                          "startlinecolor": "#2a3f5f"
                        },
                        "baxis": {
                          "endlinecolor": "#2a3f5f",
                          "gridcolor": "white",
                          "linecolor": "white",
                          "minorgridcolor": "white",
                          "startlinecolor": "#2a3f5f"
                        },
                        "type": "carpet"
                      }
                    ],
                    "choropleth": [
                      {
                        "colorbar": {
                          "outlinewidth": 0,
                          "ticks": ""
                        },
                        "type": "choropleth"
                      }
                    ],
                    "contour": [
                      {
                        "colorbar": {
                          "outlinewidth": 0,
                          "ticks": ""
                        },
                        "colorscale": [
                          [
                            0,
                            "#0d0887"
                          ],
                          [
                            0.1111111111111111,
                            "#46039f"
                          ],
                          [
                            0.2222222222222222,
                            "#7201a8"
                          ],
                          [
                            0.3333333333333333,
                            "#9c179e"
                          ],
                          [
                            0.4444444444444444,
                            "#bd3786"
                          ],
                          [
                            0.5555555555555556,
                            "#d8576b"
                          ],
                          [
                            0.6666666666666666,
                            "#ed7953"
                          ],
                          [
                            0.7777777777777778,
                            "#fb9f3a"
                          ],
                          [
                            0.8888888888888888,
                            "#fdca26"
                          ],
                          [
                            1,
                            "#f0f921"
                          ]
                        ],
                        "type": "contour"
                      }
                    ],
                    "contourcarpet": [
                      {
                        "colorbar": {
                          "outlinewidth": 0,
                          "ticks": ""
                        },
                        "type": "contourcarpet"
                      }
                    ],
                    "heatmap": [
                      {
                        "colorbar": {
                          "outlinewidth": 0,
                          "ticks": ""
                        },
                        "colorscale": [
                          [
                            0,
                            "#0d0887"
                          ],
                          [
                            0.1111111111111111,
                            "#46039f"
                          ],
                          [
                            0.2222222222222222,
                            "#7201a8"
                          ],
                          [
                            0.3333333333333333,
                            "#9c179e"
                          ],
                          [
                            0.4444444444444444,
                            "#bd3786"
                          ],
                          [
                            0.5555555555555556,
                            "#d8576b"
                          ],
                          [
                            0.6666666666666666,
                            "#ed7953"
                          ],
                          [
                            0.7777777777777778,
                            "#fb9f3a"
                          ],
                          [
                            0.8888888888888888,
                            "#fdca26"
                          ],
                          [
                            1,
                            "#f0f921"
                          ]
                        ],
                        "type": "heatmap"
                      }
                    ],
                    "heatmapgl": [
                      {
                        "colorbar": {
                          "outlinewidth": 0,
                          "ticks": ""
                        },
                        "colorscale": [
                          [
                            0,
                            "#0d0887"
                          ],
                          [
                            0.1111111111111111,
                            "#46039f"
                          ],
                          [
                            0.2222222222222222,
                            "#7201a8"
                          ],
                          [
                            0.3333333333333333,
                            "#9c179e"
                          ],
                          [
                            0.4444444444444444,
                            "#bd3786"
                          ],
                          [
                            0.5555555555555556,
                            "#d8576b"
                          ],
                          [
                            0.6666666666666666,
                            "#ed7953"
                          ],
                          [
                            0.7777777777777778,
                            "#fb9f3a"
                          ],
                          [
                            0.8888888888888888,
                            "#fdca26"
                          ],
                          [
                            1,
                            "#f0f921"
                          ]
                        ],
                        "type": "heatmapgl"
                      }
                    ],
                    "histogram": [
                      {
                        "marker": {
                          "pattern": {
                            "fillmode": "overlay",
                            "size": 10,
                            "solidity": 0.2
                          }
                        },
                        "type": "histogram"
                      }
                    ],
                    "histogram2d": [
                      {
                        "colorbar": {
                          "outlinewidth": 0,
                          "ticks": ""
                        },
                        "colorscale": [
                          [
                            0,
                            "#0d0887"
                          ],
                          [
                            0.1111111111111111,
                            "#46039f"
                          ],
                          [
                            0.2222222222222222,
                            "#7201a8"
                          ],
                          [
                            0.3333333333333333,
                            "#9c179e"
                          ],
                          [
                            0.4444444444444444,
                            "#bd3786"
                          ],
                          [
                            0.5555555555555556,
                            "#d8576b"
                          ],
                          [
                            0.6666666666666666,
                            "#ed7953"
                          ],
                          [
                            0.7777777777777778,
                            "#fb9f3a"
                          ],
                          [
                            0.8888888888888888,
                            "#fdca26"
                          ],
                          [
                            1,
                            "#f0f921"
                          ]
                        ],
                        "type": "histogram2d"
                      }
                    ],
                    "histogram2dcontour": [
                      {
                        "colorbar": {
                          "outlinewidth": 0,
                          "ticks": ""
                        },
                        "colorscale": [
                          [
                            0,
                            "#0d0887"
                          ],
                          [
                            0.1111111111111111,
                            "#46039f"
                          ],
                          [
                            0.2222222222222222,
                            "#7201a8"
                          ],
                          [
                            0.3333333333333333,
                            "#9c179e"
                          ],
                          [
                            0.4444444444444444,
                            "#bd3786"
                          ],
                          [
                            0.5555555555555556,
                            "#d8576b"
                          ],
                          [
                            0.6666666666666666,
                            "#ed7953"
                          ],
                          [
                            0.7777777777777778,
                            "#fb9f3a"
                          ],
                          [
                            0.8888888888888888,
                            "#fdca26"
                          ],
                          [
                            1,
                            "#f0f921"
                          ]
                        ],
                        "type": "histogram2dcontour"
                      }
                    ],
                    "mesh3d": [
                      {
                        "colorbar": {
                          "outlinewidth": 0,
                          "ticks": ""
                        },
                        "type": "mesh3d"
                      }
                    ],
                    "parcoords": [
                      {
                        "line": {
                          "colorbar": {
                            "outlinewidth": 0,
                            "ticks": ""
                          }
                        },
                        "type": "parcoords"
                      }
                    ],
                    "pie": [
                      {
                        "automargin": true,
                        "type": "pie"
                      }
                    ],
                    "scatter": [
                      {
                        "fillpattern": {
                          "fillmode": "overlay",
                          "size": 10,
                          "solidity": 0.2
                        },
                        "type": "scatter"
                      }
                    ],
                    "scatter3d": [
                      {
                        "line": {
                          "colorbar": {
                            "outlinewidth": 0,
                            "ticks": ""
                          }
                        },
                        "marker": {
                          "colorbar": {
                            "outlinewidth": 0,
                            "ticks": ""
                          }
                        },
                        "type": "scatter3d"
                      }
                    ],
                    "scattercarpet": [
                      {
                        "marker": {
                          "colorbar": {
                            "outlinewidth": 0,
                            "ticks": ""
                          }
                        },
                        "type": "scattercarpet"
                      }
                    ],
                    "scattergeo": [
                      {
                        "marker": {
                          "colorbar": {
                            "outlinewidth": 0,
                            "ticks": ""
                          }
                        },
                        "type": "scattergeo"
                      }
                    ],
                    "scattergl": [
                      {
                        "marker": {
                          "colorbar": {
                            "outlinewidth": 0,
                            "ticks": ""
                          }
                        },
                        "type": "scattergl"
                      }
                    ],
                    "scattermapbox": [
                      {
                        "marker": {
                          "colorbar": {
                            "outlinewidth": 0,
                            "ticks": ""
                          }
                        },
                        "type": "scattermapbox"
                      }
                    ],
                    "scatterpolar": [
                      {
                        "marker": {
                          "colorbar": {
                            "outlinewidth": 0,
                            "ticks": ""
                          }
                        },
                        "type": "scatterpolar"
                      }
                    ],
                    "scatterpolargl": [
                      {
                        "marker": {
                          "colorbar": {
                            "outlinewidth": 0,
                            "ticks": ""
                          }
                        },
                        "type": "scatterpolargl"
                      }
                    ],
                    "scatterternary": [
                      {
                        "marker": {
                          "colorbar": {
                            "outlinewidth": 0,
                            "ticks": ""
                          }
                        },
                        "type": "scatterternary"
                      }
                    ],
                    "surface": [
                      {
                        "colorbar": {
                          "outlinewidth": 0,
                          "ticks": ""
                        },
                        "colorscale": [
                          [
                            0,
                            "#0d0887"
                          ],
                          [
                            0.1111111111111111,
                            "#46039f"
                          ],
                          [
                            0.2222222222222222,
                            "#7201a8"
                          ],
                          [
                            0.3333333333333333,
                            "#9c179e"
                          ],
                          [
                            0.4444444444444444,
                            "#bd3786"
                          ],
                          [
                            0.5555555555555556,
                            "#d8576b"
                          ],
                          [
                            0.6666666666666666,
                            "#ed7953"
                          ],
                          [
                            0.7777777777777778,
                            "#fb9f3a"
                          ],
                          [
                            0.8888888888888888,
                            "#fdca26"
                          ],
                          [
                            1,
                            "#f0f921"
                          ]
                        ],
                        "type": "surface"
                      }
                    ],
                    "table": [
                      {
                        "cells": {
                          "fill": {
                            "color": "#EBF0F8"
                          },
                          "line": {
                            "color": "white"
                          }
                        },
                        "header": {
                          "fill": {
                            "color": "#C8D4E3"
                          },
                          "line": {
                            "color": "white"
                          }
                        },
                        "type": "table"
                      }
                    ]
                  },
                  "layout": {
                    "annotationdefaults": {
                      "arrowcolor": "#2a3f5f",
                      "arrowhead": 0,
                      "arrowwidth": 1
                    },
                    "autotypenumbers": "strict",
                    "coloraxis": {
                      "colorbar": {
                        "outlinewidth": 0,
                        "ticks": ""
                      }
                    },
                    "colorscale": {
                      "diverging": [
                        [
                          0,
                          "#8e0152"
                        ],
                        [
                          0.1,
                          "#c51b7d"
                        ],
                        [
                          0.2,
                          "#de77ae"
                        ],
                        [
                          0.3,
                          "#f1b6da"
                        ],
                        [
                          0.4,
                          "#fde0ef"
                        ],
                        [
                          0.5,
                          "#f7f7f7"
                        ],
                        [
                          0.6,
                          "#e6f5d0"
                        ],
                        [
                          0.7,
                          "#b8e186"
                        ],
                        [
                          0.8,
                          "#7fbc41"
                        ],
                        [
                          0.9,
                          "#4d9221"
                        ],
                        [
                          1,
                          "#276419"
                        ]
                      ],
                      "sequential": [
                        [
                          0,
                          "#0d0887"
                        ],
                        [
                          0.1111111111111111,
                          "#46039f"
                        ],
                        [
                          0.2222222222222222,
                          "#7201a8"
                        ],
                        [
                          0.3333333333333333,
                          "#9c179e"
                        ],
                        [
                          0.4444444444444444,
                          "#bd3786"
                        ],
                        [
                          0.5555555555555556,
                          "#d8576b"
                        ],
                        [
                          0.6666666666666666,
                          "#ed7953"
                        ],
                        [
                          0.7777777777777778,
                          "#fb9f3a"
                        ],
                        [
                          0.8888888888888888,
                          "#fdca26"
                        ],
                        [
                          1,
                          "#f0f921"
                        ]
                      ],
                      "sequentialminus": [
                        [
                          0,
                          "#0d0887"
                        ],
                        [
                          0.1111111111111111,
                          "#46039f"
                        ],
                        [
                          0.2222222222222222,
                          "#7201a8"
                        ],
                        [
                          0.3333333333333333,
                          "#9c179e"
                        ],
                        [
                          0.4444444444444444,
                          "#bd3786"
                        ],
                        [
                          0.5555555555555556,
                          "#d8576b"
                        ],
                        [
                          0.6666666666666666,
                          "#ed7953"
                        ],
                        [
                          0.7777777777777778,
                          "#fb9f3a"
                        ],
                        [
                          0.8888888888888888,
                          "#fdca26"
                        ],
                        [
                          1,
                          "#f0f921"
                        ]
                      ]
                    },
                    "colorway": [
                      "#636efa",
                      "#EF553B",
                      "#00cc96",
                      "#ab63fa",
                      "#FFA15A",
                      "#19d3f3",
                      "#FF6692",
                      "#B6E880",
                      "#FF97FF",
                      "#FECB52"
                    ],
                    "font": {
                      "color": "#2a3f5f"
                    },
                    "geo": {
                      "bgcolor": "white",
                      "lakecolor": "white",
                      "landcolor": "#E5ECF6",
                      "showlakes": true,
                      "showland": true,
                      "subunitcolor": "white"
                    },
                    "hoverlabel": {
                      "align": "left"
                    },
                    "hovermode": "closest",
                    "mapbox": {
                      "style": "light"
                    },
                    "paper_bgcolor": "white",
                    "plot_bgcolor": "#E5ECF6",
                    "polar": {
                      "angularaxis": {
                        "gridcolor": "white",
                        "linecolor": "white",
                        "ticks": ""
                      },
                      "bgcolor": "#E5ECF6",
                      "radialaxis": {
                        "gridcolor": "white",
                        "linecolor": "white",
                        "ticks": ""
                      }
                    },
                    "scene": {
                      "xaxis": {
                        "backgroundcolor": "#E5ECF6",
                        "gridcolor": "white",
                        "gridwidth": 2,
                        "linecolor": "white",
                        "showbackground": true,
                        "ticks": "",
                        "zerolinecolor": "white"
                      },
                      "yaxis": {
                        "backgroundcolor": "#E5ECF6",
                        "gridcolor": "white",
                        "gridwidth": 2,
                        "linecolor": "white",
                        "showbackground": true,
                        "ticks": "",
                        "zerolinecolor": "white"
                      },
                      "zaxis": {
                        "backgroundcolor": "#E5ECF6",
                        "gridcolor": "white",
                        "gridwidth": 2,
                        "linecolor": "white",
                        "showbackground": true,
                        "ticks": "",
                        "zerolinecolor": "white"
                      }
                    },
                    "shapedefaults": {
                      "line": {
                        "color": "#2a3f5f"
                      }
                    },
                    "ternary": {
                      "aaxis": {
                        "gridcolor": "white",
                        "linecolor": "white",
                        "ticks": ""
                      },
                      "baxis": {
                        "gridcolor": "white",
                        "linecolor": "white",
                        "ticks": ""
                      },
                      "bgcolor": "#E5ECF6",
                      "caxis": {
                        "gridcolor": "white",
                        "linecolor": "white",
                        "ticks": ""
                      }
                    },
                    "title": {
                      "x": 0.05
                    },
                    "xaxis": {
                      "automargin": true,
                      "gridcolor": "white",
                      "linecolor": "white",
                      "ticks": "",
                      "title": {
                        "standoff": 15
                      },
                      "zerolinecolor": "white",
                      "zerolinewidth": 2
                    },
                    "yaxis": {
                      "automargin": true,
                      "gridcolor": "white",
                      "linecolor": "white",
                      "ticks": "",
                      "title": {
                        "standoff": 15
                      },
                      "zerolinecolor": "white",
                      "zerolinewidth": 2
                    }
                  }
                },
                "title": {
                  "font": {
                    "color": "black",
                    "size": 24
                  },
                  "text": "Rozkład preferencji dotyczących smaków lodów"
                }
              }
            }
          },
          "metadata": {},
          "output_type": "display_data"
        }
      ],
      "source": [
        "fig = px.pie(quiz, values='Wartość', names='Odpowiedź',\n",
        "             title='Rozkład preferencji dotyczących smaków lodów')\n",
        "\n",
        "fig.update_traces(textposition='inside', textinfo='label', marker_colors=['rgb(34, 139, 34)', 'rgb(220, 20, 60)'],\n",
        "                  marker_line_color='white', marker_line_width=2)\n",
        "\n",
        "fig.update_layout(showlegend=False, title_font_color='black', title_font_size=24, font_color='white', font_size=24)\n",
        "\n",
        "fig.show()"
      ]
    },
    {
      "cell_type": "markdown",
      "id": "343e0cdb",
      "metadata": {
        "id": "343e0cdb"
      },
      "source": [
        "Zadanie 2.\n",
        "Napisz program, który utworzy wykres kolumnowy grupowany prezentujący rozkład sprzedaży produktów w miastach.\n"
      ]
    },
    {
      "cell_type": "code",
      "execution_count": 254,
      "id": "274682ba",
      "metadata": {
        "colab": {
          "base_uri": "https://localhost:8080/",
          "height": 542
        },
        "id": "274682ba",
        "outputId": "c94f29ea-11fa-4f70-9b2a-bafb8bc1c353"
      },
      "outputs": [
        {
          "data": {
            "application/vnd.plotly.v1+json": {
              "config": {
                "plotlyServerURL": "https://plot.ly"
              },
              "data": [
                {
                  "alignmentgroup": "True",
                  "hovertemplate": "variable=Desktop<br>Miasto=%{x}<br>value=%{y}<extra></extra>",
                  "legendgroup": "Desktop",
                  "marker": {
                    "color": "#1F77B4",
                    "pattern": {
                      "shape": ""
                    }
                  },
                  "name": "Desktop",
                  "offsetgroup": "Desktop",
                  "orientation": "v",
                  "showlegend": true,
                  "textposition": "auto",
                  "type": "bar",
                  "x": [
                    "Katowice",
                    "Kraków",
                    "Wrocław"
                  ],
                  "xaxis": "x",
                  "y": [
                    2,
                    7,
                    3
                  ],
                  "yaxis": "y"
                },
                {
                  "alignmentgroup": "True",
                  "hovertemplate": "variable=Laptop<br>Miasto=%{x}<br>value=%{y}<extra></extra>",
                  "legendgroup": "Laptop",
                  "marker": {
                    "color": "#FF7F0E",
                    "pattern": {
                      "shape": ""
                    }
                  },
                  "name": "Laptop",
                  "offsetgroup": "Laptop",
                  "orientation": "v",
                  "showlegend": true,
                  "textposition": "auto",
                  "type": "bar",
                  "x": [
                    "Katowice",
                    "Kraków",
                    "Wrocław"
                  ],
                  "xaxis": "x",
                  "y": [
                    12,
                    7,
                    13
                  ],
                  "yaxis": "y"
                }
              ],
              "layout": {
                "barmode": "group",
                "font": {
                  "color": "green",
                  "family": "Consolas",
                  "size": 18
                },
                "legend": {
                  "title": {
                    "text": "Produkty"
                  },
                  "tracegroupgap": 0
                },
                "plot_bgcolor": "white",
                "template": {
                  "data": {
                    "pie": [
                      {
                        "automargin": true,
                        "type": "pie"
                      }
                    ]
                  },
                  "layout": {
                    "xaxis": {
                      "showgrid": true,
                      "title": {
                        "standoff": 15
                      }
                    },
                    "yaxis": {
                      "showgrid": true,
                      "title": {
                        "standoff": 15
                      }
                    }
                  }
                },
                "title": {
                  "font": {
                    "size": 28
                  },
                  "text": "Sprzedaż komputerów w poszczególnych miastach",
                  "x": 0.5,
                  "y": 0.9
                },
                "xaxis": {
                  "anchor": "y",
                  "domain": [
                    0,
                    1
                  ],
                  "showgrid": false,
                  "title": {
                    "text": "Miasto"
                  }
                },
                "yaxis": {
                  "anchor": "x",
                  "domain": [
                    0,
                    1
                  ],
                  "showgrid": false,
                  "tickvals": [
                    0,
                    2,
                    4,
                    6,
                    8,
                    10,
                    12
                  ],
                  "title": {
                    "text": "Sprzedaż (w tyś.)"
                  }
                }
              }
            }
          },
          "metadata": {},
          "output_type": "display_data"
        }
      ],
      "source": [
        "fig = px.bar(sprzedaz, x='Miasto', y=['Desktop', 'Laptop'], barmode='group',\n",
        "             title='Sprzedaż komputerów w poszczególnych miastach', template = \"gridon\")\n",
        "\n",
        "fig.update_traces()\n",
        "\n",
        "fig.update_layout(font_family='Consolas', font_size=18, yaxis_title='Sprzedaż (w tyś.)', title_font_size=28, title_y=0.9, title_x=0.5, font_color='green', plot_bgcolor='white', legend_title = 'Produkty')\n",
        "\n",
        "fig.update_yaxes(tickvals=[0, 2, 4, 6, 8, 10, 12], showgrid=False)\n",
        "\n",
        "fig.update_xaxes(showgrid=False)\n",
        "\n",
        "fig.show()"
      ]
    },
    {
      "cell_type": "markdown",
      "id": "02fa87c4",
      "metadata": {
        "id": "02fa87c4"
      },
      "source": [
        "Zadanie 3.\n",
        "Napisz program, który utworzy wykres kolumnowy prezentujący rozkład sprzedaży produktów w miastach."
      ]
    },
    {
      "cell_type": "code",
      "execution_count": 255,
      "id": "5b6273da",
      "metadata": {},
      "outputs": [
        {
          "name": "stdout",
          "output_type": "stream",
          "text": [
            "     Miasto  Produkt  Sprzedaz\n",
            "0  Katowice  Desktop         2\n",
            "1  Katowice   Laptop        12\n",
            "2    Kraków  Desktop         7\n",
            "3    Kraków   Laptop         7\n",
            "4   Wrocław  Desktop         3\n",
            "5   Wrocław   Laptop        13\n"
          ]
        }
      ],
      "source": [
        "import pandas as pd\n",
        "\n",
        "miasta = sprzedaz['Miasto'].unique()\n",
        "\n",
        "data = []\n",
        "\n",
        "for miasto in miasta:\n",
        "    sprzedaz_miasto = sprzedaz[sprzedaz['Miasto'] == miasto]\n",
        "    \n",
        "    for produkt in ['Desktop', 'Laptop']:\n",
        "        sprzedaz_produkt = sprzedaz_miasto[produkt].values[0]\n",
        "        \n",
        "        data.append({\n",
        "            'Miasto': miasto,\n",
        "            'Produkt': produkt,\n",
        "            'Sprzedaz': sprzedaz_produkt\n",
        "        })\n",
        "\n",
        "nowy_df = pd.DataFrame(data)\n",
        "\n",
        "print(nowy_df)\n"
      ]
    },
    {
      "cell_type": "code",
      "execution_count": 256,
      "id": "5eb9c999",
      "metadata": {
        "colab": {
          "base_uri": "https://localhost:8080/",
          "height": 356
        },
        "id": "5eb9c999",
        "outputId": "5433a8a2-9fc5-4519-9d96-1b7fa71b1775"
      },
      "outputs": [
        {
          "data": {
            "application/vnd.plotly.v1+json": {
              "config": {
                "plotlyServerURL": "https://plot.ly"
              },
              "data": [
                {
                  "alignmentgroup": "True",
                  "hovertemplate": "Miasto=Katowice<br>Produkt=%{x}<br>Sprzedaz=%{y}<extra></extra>",
                  "legendgroup": "Katowice",
                  "marker": {
                    "color": "#1F77B4",
                    "pattern": {
                      "shape": ""
                    }
                  },
                  "name": "Katowice",
                  "offsetgroup": "Katowice",
                  "orientation": "v",
                  "showlegend": true,
                  "textposition": "auto",
                  "type": "bar",
                  "x": [
                    "Desktop",
                    "Laptop"
                  ],
                  "xaxis": "x",
                  "y": [
                    2,
                    12
                  ],
                  "yaxis": "y"
                },
                {
                  "alignmentgroup": "True",
                  "hovertemplate": "Miasto=Kraków<br>Produkt=%{x}<br>Sprzedaz=%{y}<extra></extra>",
                  "legendgroup": "Kraków",
                  "marker": {
                    "color": "#FF7F0E",
                    "pattern": {
                      "shape": ""
                    }
                  },
                  "name": "Kraków",
                  "offsetgroup": "Kraków",
                  "orientation": "v",
                  "showlegend": true,
                  "textposition": "auto",
                  "type": "bar",
                  "x": [
                    "Desktop",
                    "Laptop"
                  ],
                  "xaxis": "x",
                  "y": [
                    7,
                    7
                  ],
                  "yaxis": "y"
                },
                {
                  "alignmentgroup": "True",
                  "hovertemplate": "Miasto=Wrocław<br>Produkt=%{x}<br>Sprzedaz=%{y}<extra></extra>",
                  "legendgroup": "Wrocław",
                  "marker": {
                    "color": "#2CA02C",
                    "pattern": {
                      "shape": ""
                    }
                  },
                  "name": "Wrocław",
                  "offsetgroup": "Wrocław",
                  "orientation": "v",
                  "showlegend": true,
                  "textposition": "auto",
                  "type": "bar",
                  "x": [
                    "Desktop",
                    "Laptop"
                  ],
                  "xaxis": "x",
                  "y": [
                    3,
                    13
                  ],
                  "yaxis": "y"
                }
              ],
              "layout": {
                "barmode": "relative",
                "legend": {
                  "title": {
                    "text": "Miasto"
                  },
                  "tracegroupgap": 0
                },
                "template": {
                  "data": {
                    "pie": [
                      {
                        "automargin": true,
                        "type": "pie"
                      }
                    ]
                  },
                  "layout": {
                    "xaxis": {
                      "showgrid": true,
                      "title": {
                        "standoff": 15
                      }
                    },
                    "yaxis": {
                      "showgrid": true,
                      "title": {
                        "standoff": 15
                      }
                    }
                  }
                },
                "title": {
                  "text": "Rozkład sprzedaży produktów w miastach"
                },
                "xaxis": {
                  "anchor": "y",
                  "domain": [
                    0,
                    1
                  ],
                  "title": {
                    "text": "Produkt"
                  }
                },
                "yaxis": {
                  "anchor": "x",
                  "domain": [
                    0,
                    1
                  ],
                  "ticktext": [
                    "0",
                    "10k",
                    "20k",
                    "30k"
                  ],
                  "tickvals": [
                    0,
                    10,
                    20,
                    30
                  ],
                  "title": {
                    "text": "Sprzedaz"
                  }
                }
              }
            }
          },
          "metadata": {},
          "output_type": "display_data"
        }
      ],
      "source": [
        "fig = px.bar(nowy_df, x=\"Produkt\", y=\"Sprzedaz\", color=\"Miasto\", title=\"Rozkład sprzedaży produktów w miastach\", template = \"gridon\")\n",
        "\n",
        "fig.update_layout(yaxis=dict(tickvals=[0, 10, 20, 30], ticktext=['0', '10k', '20k', '30k']))\n",
        "\n",
        "fig.show()"
      ]
    },
    {
      "cell_type": "markdown",
      "id": "42bf2061",
      "metadata": {
        "id": "42bf2061"
      },
      "source": [
        "Zadanie 4.\n",
        "Napisz program, który utworzy wykres kolumnowy prezentujący procentowy rozkład sprzedaży produktów w miastach."
      ]
    },
    {
      "cell_type": "code",
      "execution_count": 257,
      "id": "ae851413",
      "metadata": {},
      "outputs": [],
      "source": [
        "nowy_df['Suma_sprzedaży_produkt'] = nowy_df.groupby('Produkt')['Sprzedaz'].transform('sum')\n",
        "\n",
        "nowy_df['Procentowy_udział_produkt'] = (nowy_df['Sprzedaz'] / nowy_df['Suma_sprzedaży_produkt']) * 100"
      ]
    },
    {
      "cell_type": "code",
      "execution_count": 258,
      "id": "582009c3",
      "metadata": {
        "id": "582009c3"
      },
      "outputs": [
        {
          "data": {
            "application/vnd.plotly.v1+json": {
              "config": {
                "plotlyServerURL": "https://plot.ly"
              },
              "data": [
                {
                  "alignmentgroup": "True",
                  "hovertemplate": "Miasto=Katowice<br>Produkt=%{x}<br>Procentowy_udział_produkt=%{y}<extra></extra>",
                  "legendgroup": "Katowice",
                  "marker": {
                    "color": "#1F77B4",
                    "pattern": {
                      "shape": ""
                    }
                  },
                  "name": "Katowice",
                  "offsetgroup": "Katowice",
                  "orientation": "v",
                  "showlegend": true,
                  "textposition": "auto",
                  "type": "bar",
                  "x": [
                    "Desktop",
                    "Laptop"
                  ],
                  "xaxis": "x",
                  "y": [
                    16.666666666666664,
                    37.5
                  ],
                  "yaxis": "y"
                },
                {
                  "alignmentgroup": "True",
                  "hovertemplate": "Miasto=Kraków<br>Produkt=%{x}<br>Procentowy_udział_produkt=%{y}<extra></extra>",
                  "legendgroup": "Kraków",
                  "marker": {
                    "color": "#FF7F0E",
                    "pattern": {
                      "shape": ""
                    }
                  },
                  "name": "Kraków",
                  "offsetgroup": "Kraków",
                  "orientation": "v",
                  "showlegend": true,
                  "textposition": "auto",
                  "type": "bar",
                  "x": [
                    "Desktop",
                    "Laptop"
                  ],
                  "xaxis": "x",
                  "y": [
                    58.333333333333336,
                    21.875
                  ],
                  "yaxis": "y"
                },
                {
                  "alignmentgroup": "True",
                  "hovertemplate": "Miasto=Wrocław<br>Produkt=%{x}<br>Procentowy_udział_produkt=%{y}<extra></extra>",
                  "legendgroup": "Wrocław",
                  "marker": {
                    "color": "#2CA02C",
                    "pattern": {
                      "shape": ""
                    }
                  },
                  "name": "Wrocław",
                  "offsetgroup": "Wrocław",
                  "orientation": "v",
                  "showlegend": true,
                  "textposition": "auto",
                  "type": "bar",
                  "x": [
                    "Desktop",
                    "Laptop"
                  ],
                  "xaxis": "x",
                  "y": [
                    25,
                    40.625
                  ],
                  "yaxis": "y"
                }
              ],
              "layout": {
                "barmode": "relative",
                "legend": {
                  "title": {
                    "text": "Miasto"
                  },
                  "tracegroupgap": 0
                },
                "template": {
                  "data": {
                    "pie": [
                      {
                        "automargin": true,
                        "type": "pie"
                      }
                    ]
                  },
                  "layout": {
                    "xaxis": {
                      "showgrid": true,
                      "title": {
                        "standoff": 15
                      }
                    },
                    "yaxis": {
                      "showgrid": true,
                      "title": {
                        "standoff": 15
                      }
                    }
                  }
                },
                "title": {
                  "text": "Procentowy rozkład sprzedaży produktów w miastach"
                },
                "xaxis": {
                  "anchor": "y",
                  "categoryarray": [
                    "Desktop",
                    "Laptop"
                  ],
                  "categoryorder": "array",
                  "domain": [
                    0,
                    1
                  ],
                  "title": {
                    "text": "Produkt"
                  }
                },
                "yaxis": {
                  "anchor": "x",
                  "domain": [
                    0,
                    1
                  ],
                  "tickmode": "array",
                  "ticktext": [
                    "0%",
                    "50%",
                    "100%"
                  ],
                  "tickvals": [
                    0,
                    50,
                    100
                  ],
                  "title": {
                    "text": ""
                  }
                }
              }
            }
          },
          "metadata": {},
          "output_type": "display_data"
        }
      ],
      "source": [
        "fig = px.bar(nowy_df, x=\"Produkt\", y=\"Procentowy_udział_produkt\", color=\"Miasto\",\n",
        "             title=\"Procentowy rozkład sprzedaży produktów w miastach\",\n",
        "             category_orders={\"Produkt\": [\"Desktop\", \"Laptop\"]}, template=\"gridon\")\n",
        "\n",
        "fig.update_layout(yaxis=dict(tickmode='array', tickvals=[0, 50, 100], ticktext=['0%', '50%', '100%']))\n",
        "fig.update_layout(yaxis_title='')\n",
        "fig.show()"
      ]
    },
    {
      "cell_type": "markdown",
      "id": "f89077dc",
      "metadata": {
        "id": "f89077dc"
      },
      "source": [
        "Zadanie 5.\n",
        "Napisz program, który utworzy wykres punktowy prezentujący transformację logarytmiczną liczb z przedziału `<1, 100>` (zmienna `x`).\n",
        "Wykres ma przedstawiać przekształcenie przy podstawie logarytmu `2` (zmienna `y2`) i `10` (zmienna `y10`)."
      ]
    },
    {
      "cell_type": "code",
      "execution_count": 259,
      "id": "19e1bec4",
      "metadata": {},
      "outputs": [
        {
          "data": {
            "application/vnd.plotly.v1+json": {
              "config": {
                "plotlyServerURL": "https://plot.ly"
              },
              "data": [
                {
                  "mode": "markers",
                  "name": "2",
                  "type": "scatter",
                  "x": [
                    1,
                    2,
                    3,
                    4,
                    5,
                    6,
                    7,
                    8,
                    9,
                    10,
                    11,
                    12,
                    13,
                    14,
                    15,
                    16,
                    17,
                    18,
                    19,
                    20,
                    21,
                    22,
                    23,
                    24,
                    25,
                    26,
                    27,
                    28,
                    29,
                    30,
                    31,
                    32,
                    33,
                    34,
                    35,
                    36,
                    37,
                    38,
                    39,
                    40,
                    41,
                    42,
                    43,
                    44,
                    45,
                    46,
                    47,
                    48,
                    49,
                    50,
                    51,
                    52,
                    53,
                    54,
                    55,
                    56,
                    57,
                    58,
                    59,
                    60,
                    61,
                    62,
                    63,
                    64,
                    65,
                    66,
                    67,
                    68,
                    69,
                    70,
                    71,
                    72,
                    73,
                    74,
                    75,
                    76,
                    77,
                    78,
                    79,
                    80,
                    81,
                    82,
                    83,
                    84,
                    85,
                    86,
                    87,
                    88,
                    89,
                    90,
                    91,
                    92,
                    93,
                    94,
                    95,
                    96,
                    97,
                    98,
                    99,
                    100
                  ],
                  "y": [
                    0,
                    1,
                    1.584962500721156,
                    2,
                    2.321928094887362,
                    2.584962500721156,
                    2.807354922057604,
                    3,
                    3.169925001442312,
                    3.321928094887362,
                    3.4594316186372973,
                    3.584962500721156,
                    3.700439718141092,
                    3.807354922057604,
                    3.9068905956085187,
                    4,
                    4.087462841250339,
                    4.169925001442312,
                    4.247927513443585,
                    4.321928094887363,
                    4.392317422778761,
                    4.459431618637297,
                    4.523561956057013,
                    4.584962500721156,
                    4.643856189774724,
                    4.700439718141092,
                    4.754887502163468,
                    4.807354922057604,
                    4.857980995127572,
                    4.906890595608519,
                    4.954196310386875,
                    5,
                    5.044394119358453,
                    5.087462841250339,
                    5.129283016944966,
                    5.169925001442312,
                    5.20945336562895,
                    5.247927513443585,
                    5.285402218862249,
                    5.321928094887363,
                    5.357552004618084,
                    5.392317422778761,
                    5.426264754702098,
                    5.459431618637297,
                    5.491853096329675,
                    5.523561956057013,
                    5.554588851677638,
                    5.584962500721156,
                    5.614709844115208,
                    5.643856189774724,
                    5.672425341971495,
                    5.700439718141092,
                    5.727920454563199,
                    5.754887502163468,
                    5.78135971352466,
                    5.807354922057604,
                    5.832890014164741,
                    5.857980995127572,
                    5.882643049361842,
                    5.906890595608519,
                    5.930737337562887,
                    5.954196310386875,
                    5.977279923499917,
                    6,
                    6.022367813028454,
                    6.044394119358453,
                    6.066089190457772,
                    6.087462841250339,
                    6.108524456778169,
                    6.129283016944966,
                    6.149747119504682,
                    6.169925001442312,
                    6.189824558880018,
                    6.20945336562895,
                    6.22881869049588,
                    6.247927513443585,
                    6.266786540694901,
                    6.285402218862249,
                    6.303780748177103,
                    6.321928094887363,
                    6.339850002884624,
                    6.357552004618084,
                    6.3750394313469245,
                    6.392317422778761,
                    6.409390936137702,
                    6.426264754702098,
                    6.442943495848728,
                    6.459431618637297,
                    6.475733430966398,
                    6.491853096329675,
                    6.507794640198696,
                    6.523561956057013,
                    6.539158811108031,
                    6.554588851677638,
                    6.569855608330948,
                    6.584962500721156,
                    6.599912842187128,
                    6.614709844115208,
                    6.6293566200796095,
                    6.643856189774724
                  ]
                },
                {
                  "mode": "markers",
                  "name": "10",
                  "type": "scatter",
                  "x": [
                    1,
                    2,
                    3,
                    4,
                    5,
                    6,
                    7,
                    8,
                    9,
                    10,
                    11,
                    12,
                    13,
                    14,
                    15,
                    16,
                    17,
                    18,
                    19,
                    20,
                    21,
                    22,
                    23,
                    24,
                    25,
                    26,
                    27,
                    28,
                    29,
                    30,
                    31,
                    32,
                    33,
                    34,
                    35,
                    36,
                    37,
                    38,
                    39,
                    40,
                    41,
                    42,
                    43,
                    44,
                    45,
                    46,
                    47,
                    48,
                    49,
                    50,
                    51,
                    52,
                    53,
                    54,
                    55,
                    56,
                    57,
                    58,
                    59,
                    60,
                    61,
                    62,
                    63,
                    64,
                    65,
                    66,
                    67,
                    68,
                    69,
                    70,
                    71,
                    72,
                    73,
                    74,
                    75,
                    76,
                    77,
                    78,
                    79,
                    80,
                    81,
                    82,
                    83,
                    84,
                    85,
                    86,
                    87,
                    88,
                    89,
                    90,
                    91,
                    92,
                    93,
                    94,
                    95,
                    96,
                    97,
                    98,
                    99,
                    100
                  ],
                  "y": [
                    0,
                    0.3010299956639812,
                    0.47712125471966244,
                    0.6020599913279624,
                    0.6989700043360189,
                    0.7781512503836436,
                    0.8450980400142568,
                    0.9030899869919435,
                    0.9542425094393249,
                    1,
                    1.0413926851582251,
                    1.0791812460476249,
                    1.1139433523068367,
                    1.146128035678238,
                    1.1760912590556813,
                    1.2041199826559248,
                    1.2304489213782739,
                    1.255272505103306,
                    1.2787536009528289,
                    1.3010299956639813,
                    1.3222192947339193,
                    1.3424226808222062,
                    1.3617278360175928,
                    1.380211241711606,
                    1.3979400086720377,
                    1.414973347970818,
                    1.4313637641589874,
                    1.4471580313422192,
                    1.462397997898956,
                    1.4771212547196624,
                    1.4913616938342726,
                    1.505149978319906,
                    1.5185139398778875,
                    1.5314789170422551,
                    1.5440680443502757,
                    1.5563025007672873,
                    1.568201724066995,
                    1.5797835966168101,
                    1.591064607026499,
                    1.6020599913279623,
                    1.6127838567197355,
                    1.6232492903979006,
                    1.6334684555795864,
                    1.6434526764861874,
                    1.6532125137753437,
                    1.662757831681574,
                    1.6720978579357175,
                    1.6812412373755872,
                    1.6901960800285136,
                    1.6989700043360187,
                    1.7075701760979363,
                    1.7160033436347992,
                    1.724275869600789,
                    1.7323937598229686,
                    1.7403626894942439,
                    1.7481880270062005,
                    1.7558748556724915,
                    1.7634279935629373,
                    1.7708520116421442,
                    1.7781512503836436,
                    1.7853298350107671,
                    1.792391689498254,
                    1.7993405494535817,
                    1.806179973983887,
                    1.8129133566428555,
                    1.8195439355418688,
                    1.8260748027008264,
                    1.8325089127062364,
                    1.8388490907372552,
                    1.845098040014257,
                    1.8512583487190752,
                    1.8573324964312685,
                    1.863322860120456,
                    1.8692317197309762,
                    1.8750612633917,
                    1.8808135922807914,
                    1.8864907251724818,
                    1.8920946026904804,
                    1.8976270912904414,
                    1.9030899869919435,
                    1.9084850188786497,
                    1.9138138523837167,
                    1.919078092376074,
                    1.9242792860618816,
                    1.9294189257142926,
                    1.9344984512435677,
                    1.9395192526186185,
                    1.9444826721501687,
                    1.9493900066449128,
                    1.954242509439325,
                    1.9590413923210936,
                    1.9637878273455553,
                    1.968482948553935,
                    1.9731278535996986,
                    1.9777236052888478,
                    1.9822712330395684,
                    1.9867717342662448,
                    1.9912260756924949,
                    1.99563519459755,
                    2
                  ]
                }
              ],
              "layout": {
                "legend": {
                  "title": {
                    "text": "Podstawa"
                  }
                },
                "template": {
                  "data": {
                    "bar": [
                      {
                        "error_x": {
                          "color": "rgb(36,36,36)"
                        },
                        "error_y": {
                          "color": "rgb(36,36,36)"
                        },
                        "marker": {
                          "line": {
                            "color": "white",
                            "width": 0.5
                          },
                          "pattern": {
                            "fillmode": "overlay",
                            "size": 10,
                            "solidity": 0.2
                          }
                        },
                        "type": "bar"
                      }
                    ],
                    "barpolar": [
                      {
                        "marker": {
                          "line": {
                            "color": "white",
                            "width": 0.5
                          },
                          "pattern": {
                            "fillmode": "overlay",
                            "size": 10,
                            "solidity": 0.2
                          }
                        },
                        "type": "barpolar"
                      }
                    ],
                    "carpet": [
                      {
                        "aaxis": {
                          "endlinecolor": "rgb(36,36,36)",
                          "gridcolor": "white",
                          "linecolor": "white",
                          "minorgridcolor": "white",
                          "startlinecolor": "rgb(36,36,36)"
                        },
                        "baxis": {
                          "endlinecolor": "rgb(36,36,36)",
                          "gridcolor": "white",
                          "linecolor": "white",
                          "minorgridcolor": "white",
                          "startlinecolor": "rgb(36,36,36)"
                        },
                        "type": "carpet"
                      }
                    ],
                    "choropleth": [
                      {
                        "colorbar": {
                          "outlinewidth": 1,
                          "tickcolor": "rgb(36,36,36)",
                          "ticks": "outside"
                        },
                        "type": "choropleth"
                      }
                    ],
                    "contour": [
                      {
                        "colorbar": {
                          "outlinewidth": 1,
                          "tickcolor": "rgb(36,36,36)",
                          "ticks": "outside"
                        },
                        "colorscale": [
                          [
                            0,
                            "#440154"
                          ],
                          [
                            0.1111111111111111,
                            "#482878"
                          ],
                          [
                            0.2222222222222222,
                            "#3e4989"
                          ],
                          [
                            0.3333333333333333,
                            "#31688e"
                          ],
                          [
                            0.4444444444444444,
                            "#26828e"
                          ],
                          [
                            0.5555555555555556,
                            "#1f9e89"
                          ],
                          [
                            0.6666666666666666,
                            "#35b779"
                          ],
                          [
                            0.7777777777777778,
                            "#6ece58"
                          ],
                          [
                            0.8888888888888888,
                            "#b5de2b"
                          ],
                          [
                            1,
                            "#fde725"
                          ]
                        ],
                        "type": "contour"
                      }
                    ],
                    "contourcarpet": [
                      {
                        "colorbar": {
                          "outlinewidth": 1,
                          "tickcolor": "rgb(36,36,36)",
                          "ticks": "outside"
                        },
                        "type": "contourcarpet"
                      }
                    ],
                    "heatmap": [
                      {
                        "colorbar": {
                          "outlinewidth": 1,
                          "tickcolor": "rgb(36,36,36)",
                          "ticks": "outside"
                        },
                        "colorscale": [
                          [
                            0,
                            "#440154"
                          ],
                          [
                            0.1111111111111111,
                            "#482878"
                          ],
                          [
                            0.2222222222222222,
                            "#3e4989"
                          ],
                          [
                            0.3333333333333333,
                            "#31688e"
                          ],
                          [
                            0.4444444444444444,
                            "#26828e"
                          ],
                          [
                            0.5555555555555556,
                            "#1f9e89"
                          ],
                          [
                            0.6666666666666666,
                            "#35b779"
                          ],
                          [
                            0.7777777777777778,
                            "#6ece58"
                          ],
                          [
                            0.8888888888888888,
                            "#b5de2b"
                          ],
                          [
                            1,
                            "#fde725"
                          ]
                        ],
                        "type": "heatmap"
                      }
                    ],
                    "heatmapgl": [
                      {
                        "colorbar": {
                          "outlinewidth": 1,
                          "tickcolor": "rgb(36,36,36)",
                          "ticks": "outside"
                        },
                        "colorscale": [
                          [
                            0,
                            "#440154"
                          ],
                          [
                            0.1111111111111111,
                            "#482878"
                          ],
                          [
                            0.2222222222222222,
                            "#3e4989"
                          ],
                          [
                            0.3333333333333333,
                            "#31688e"
                          ],
                          [
                            0.4444444444444444,
                            "#26828e"
                          ],
                          [
                            0.5555555555555556,
                            "#1f9e89"
                          ],
                          [
                            0.6666666666666666,
                            "#35b779"
                          ],
                          [
                            0.7777777777777778,
                            "#6ece58"
                          ],
                          [
                            0.8888888888888888,
                            "#b5de2b"
                          ],
                          [
                            1,
                            "#fde725"
                          ]
                        ],
                        "type": "heatmapgl"
                      }
                    ],
                    "histogram": [
                      {
                        "marker": {
                          "line": {
                            "color": "white",
                            "width": 0.6
                          }
                        },
                        "type": "histogram"
                      }
                    ],
                    "histogram2d": [
                      {
                        "colorbar": {
                          "outlinewidth": 1,
                          "tickcolor": "rgb(36,36,36)",
                          "ticks": "outside"
                        },
                        "colorscale": [
                          [
                            0,
                            "#440154"
                          ],
                          [
                            0.1111111111111111,
                            "#482878"
                          ],
                          [
                            0.2222222222222222,
                            "#3e4989"
                          ],
                          [
                            0.3333333333333333,
                            "#31688e"
                          ],
                          [
                            0.4444444444444444,
                            "#26828e"
                          ],
                          [
                            0.5555555555555556,
                            "#1f9e89"
                          ],
                          [
                            0.6666666666666666,
                            "#35b779"
                          ],
                          [
                            0.7777777777777778,
                            "#6ece58"
                          ],
                          [
                            0.8888888888888888,
                            "#b5de2b"
                          ],
                          [
                            1,
                            "#fde725"
                          ]
                        ],
                        "type": "histogram2d"
                      }
                    ],
                    "histogram2dcontour": [
                      {
                        "colorbar": {
                          "outlinewidth": 1,
                          "tickcolor": "rgb(36,36,36)",
                          "ticks": "outside"
                        },
                        "colorscale": [
                          [
                            0,
                            "#440154"
                          ],
                          [
                            0.1111111111111111,
                            "#482878"
                          ],
                          [
                            0.2222222222222222,
                            "#3e4989"
                          ],
                          [
                            0.3333333333333333,
                            "#31688e"
                          ],
                          [
                            0.4444444444444444,
                            "#26828e"
                          ],
                          [
                            0.5555555555555556,
                            "#1f9e89"
                          ],
                          [
                            0.6666666666666666,
                            "#35b779"
                          ],
                          [
                            0.7777777777777778,
                            "#6ece58"
                          ],
                          [
                            0.8888888888888888,
                            "#b5de2b"
                          ],
                          [
                            1,
                            "#fde725"
                          ]
                        ],
                        "type": "histogram2dcontour"
                      }
                    ],
                    "mesh3d": [
                      {
                        "colorbar": {
                          "outlinewidth": 1,
                          "tickcolor": "rgb(36,36,36)",
                          "ticks": "outside"
                        },
                        "type": "mesh3d"
                      }
                    ],
                    "parcoords": [
                      {
                        "line": {
                          "colorbar": {
                            "outlinewidth": 1,
                            "tickcolor": "rgb(36,36,36)",
                            "ticks": "outside"
                          }
                        },
                        "type": "parcoords"
                      }
                    ],
                    "pie": [
                      {
                        "automargin": true,
                        "type": "pie"
                      }
                    ],
                    "scatter": [
                      {
                        "fillpattern": {
                          "fillmode": "overlay",
                          "size": 10,
                          "solidity": 0.2
                        },
                        "type": "scatter"
                      }
                    ],
                    "scatter3d": [
                      {
                        "line": {
                          "colorbar": {
                            "outlinewidth": 1,
                            "tickcolor": "rgb(36,36,36)",
                            "ticks": "outside"
                          }
                        },
                        "marker": {
                          "colorbar": {
                            "outlinewidth": 1,
                            "tickcolor": "rgb(36,36,36)",
                            "ticks": "outside"
                          }
                        },
                        "type": "scatter3d"
                      }
                    ],
                    "scattercarpet": [
                      {
                        "marker": {
                          "colorbar": {
                            "outlinewidth": 1,
                            "tickcolor": "rgb(36,36,36)",
                            "ticks": "outside"
                          }
                        },
                        "type": "scattercarpet"
                      }
                    ],
                    "scattergeo": [
                      {
                        "marker": {
                          "colorbar": {
                            "outlinewidth": 1,
                            "tickcolor": "rgb(36,36,36)",
                            "ticks": "outside"
                          }
                        },
                        "type": "scattergeo"
                      }
                    ],
                    "scattergl": [
                      {
                        "marker": {
                          "colorbar": {
                            "outlinewidth": 1,
                            "tickcolor": "rgb(36,36,36)",
                            "ticks": "outside"
                          }
                        },
                        "type": "scattergl"
                      }
                    ],
                    "scattermapbox": [
                      {
                        "marker": {
                          "colorbar": {
                            "outlinewidth": 1,
                            "tickcolor": "rgb(36,36,36)",
                            "ticks": "outside"
                          }
                        },
                        "type": "scattermapbox"
                      }
                    ],
                    "scatterpolar": [
                      {
                        "marker": {
                          "colorbar": {
                            "outlinewidth": 1,
                            "tickcolor": "rgb(36,36,36)",
                            "ticks": "outside"
                          }
                        },
                        "type": "scatterpolar"
                      }
                    ],
                    "scatterpolargl": [
                      {
                        "marker": {
                          "colorbar": {
                            "outlinewidth": 1,
                            "tickcolor": "rgb(36,36,36)",
                            "ticks": "outside"
                          }
                        },
                        "type": "scatterpolargl"
                      }
                    ],
                    "scatterternary": [
                      {
                        "marker": {
                          "colorbar": {
                            "outlinewidth": 1,
                            "tickcolor": "rgb(36,36,36)",
                            "ticks": "outside"
                          }
                        },
                        "type": "scatterternary"
                      }
                    ],
                    "surface": [
                      {
                        "colorbar": {
                          "outlinewidth": 1,
                          "tickcolor": "rgb(36,36,36)",
                          "ticks": "outside"
                        },
                        "colorscale": [
                          [
                            0,
                            "#440154"
                          ],
                          [
                            0.1111111111111111,
                            "#482878"
                          ],
                          [
                            0.2222222222222222,
                            "#3e4989"
                          ],
                          [
                            0.3333333333333333,
                            "#31688e"
                          ],
                          [
                            0.4444444444444444,
                            "#26828e"
                          ],
                          [
                            0.5555555555555556,
                            "#1f9e89"
                          ],
                          [
                            0.6666666666666666,
                            "#35b779"
                          ],
                          [
                            0.7777777777777778,
                            "#6ece58"
                          ],
                          [
                            0.8888888888888888,
                            "#b5de2b"
                          ],
                          [
                            1,
                            "#fde725"
                          ]
                        ],
                        "type": "surface"
                      }
                    ],
                    "table": [
                      {
                        "cells": {
                          "fill": {
                            "color": "rgb(237,237,237)"
                          },
                          "line": {
                            "color": "white"
                          }
                        },
                        "header": {
                          "fill": {
                            "color": "rgb(217,217,217)"
                          },
                          "line": {
                            "color": "white"
                          }
                        },
                        "type": "table"
                      }
                    ]
                  },
                  "layout": {
                    "annotationdefaults": {
                      "arrowhead": 0,
                      "arrowwidth": 1
                    },
                    "autotypenumbers": "strict",
                    "coloraxis": {
                      "colorbar": {
                        "outlinewidth": 1,
                        "tickcolor": "rgb(36,36,36)",
                        "ticks": "outside"
                      }
                    },
                    "colorscale": {
                      "diverging": [
                        [
                          0,
                          "rgb(103,0,31)"
                        ],
                        [
                          0.1,
                          "rgb(178,24,43)"
                        ],
                        [
                          0.2,
                          "rgb(214,96,77)"
                        ],
                        [
                          0.3,
                          "rgb(244,165,130)"
                        ],
                        [
                          0.4,
                          "rgb(253,219,199)"
                        ],
                        [
                          0.5,
                          "rgb(247,247,247)"
                        ],
                        [
                          0.6,
                          "rgb(209,229,240)"
                        ],
                        [
                          0.7,
                          "rgb(146,197,222)"
                        ],
                        [
                          0.8,
                          "rgb(67,147,195)"
                        ],
                        [
                          0.9,
                          "rgb(33,102,172)"
                        ],
                        [
                          1,
                          "rgb(5,48,97)"
                        ]
                      ],
                      "sequential": [
                        [
                          0,
                          "#440154"
                        ],
                        [
                          0.1111111111111111,
                          "#482878"
                        ],
                        [
                          0.2222222222222222,
                          "#3e4989"
                        ],
                        [
                          0.3333333333333333,
                          "#31688e"
                        ],
                        [
                          0.4444444444444444,
                          "#26828e"
                        ],
                        [
                          0.5555555555555556,
                          "#1f9e89"
                        ],
                        [
                          0.6666666666666666,
                          "#35b779"
                        ],
                        [
                          0.7777777777777778,
                          "#6ece58"
                        ],
                        [
                          0.8888888888888888,
                          "#b5de2b"
                        ],
                        [
                          1,
                          "#fde725"
                        ]
                      ],
                      "sequentialminus": [
                        [
                          0,
                          "#440154"
                        ],
                        [
                          0.1111111111111111,
                          "#482878"
                        ],
                        [
                          0.2222222222222222,
                          "#3e4989"
                        ],
                        [
                          0.3333333333333333,
                          "#31688e"
                        ],
                        [
                          0.4444444444444444,
                          "#26828e"
                        ],
                        [
                          0.5555555555555556,
                          "#1f9e89"
                        ],
                        [
                          0.6666666666666666,
                          "#35b779"
                        ],
                        [
                          0.7777777777777778,
                          "#6ece58"
                        ],
                        [
                          0.8888888888888888,
                          "#b5de2b"
                        ],
                        [
                          1,
                          "#fde725"
                        ]
                      ]
                    },
                    "colorway": [
                      "#1F77B4",
                      "#FF7F0E",
                      "#2CA02C",
                      "#D62728",
                      "#9467BD",
                      "#8C564B",
                      "#E377C2",
                      "#7F7F7F",
                      "#BCBD22",
                      "#17BECF"
                    ],
                    "font": {
                      "color": "rgb(36,36,36)"
                    },
                    "geo": {
                      "bgcolor": "white",
                      "lakecolor": "white",
                      "landcolor": "white",
                      "showlakes": true,
                      "showland": true,
                      "subunitcolor": "white"
                    },
                    "hoverlabel": {
                      "align": "left"
                    },
                    "hovermode": "closest",
                    "mapbox": {
                      "style": "light"
                    },
                    "paper_bgcolor": "white",
                    "plot_bgcolor": "white",
                    "polar": {
                      "angularaxis": {
                        "gridcolor": "rgb(232,232,232)",
                        "linecolor": "rgb(36,36,36)",
                        "showgrid": false,
                        "showline": true,
                        "ticks": "outside"
                      },
                      "bgcolor": "white",
                      "radialaxis": {
                        "gridcolor": "rgb(232,232,232)",
                        "linecolor": "rgb(36,36,36)",
                        "showgrid": false,
                        "showline": true,
                        "ticks": "outside"
                      }
                    },
                    "scene": {
                      "xaxis": {
                        "backgroundcolor": "white",
                        "gridcolor": "rgb(232,232,232)",
                        "gridwidth": 2,
                        "linecolor": "rgb(36,36,36)",
                        "showbackground": true,
                        "showgrid": false,
                        "showline": true,
                        "ticks": "outside",
                        "zeroline": false,
                        "zerolinecolor": "rgb(36,36,36)"
                      },
                      "yaxis": {
                        "backgroundcolor": "white",
                        "gridcolor": "rgb(232,232,232)",
                        "gridwidth": 2,
                        "linecolor": "rgb(36,36,36)",
                        "showbackground": true,
                        "showgrid": false,
                        "showline": true,
                        "ticks": "outside",
                        "zeroline": false,
                        "zerolinecolor": "rgb(36,36,36)"
                      },
                      "zaxis": {
                        "backgroundcolor": "white",
                        "gridcolor": "rgb(232,232,232)",
                        "gridwidth": 2,
                        "linecolor": "rgb(36,36,36)",
                        "showbackground": true,
                        "showgrid": false,
                        "showline": true,
                        "ticks": "outside",
                        "zeroline": false,
                        "zerolinecolor": "rgb(36,36,36)"
                      }
                    },
                    "shapedefaults": {
                      "fillcolor": "black",
                      "line": {
                        "width": 0
                      },
                      "opacity": 0.3
                    },
                    "ternary": {
                      "aaxis": {
                        "gridcolor": "rgb(232,232,232)",
                        "linecolor": "rgb(36,36,36)",
                        "showgrid": false,
                        "showline": true,
                        "ticks": "outside"
                      },
                      "baxis": {
                        "gridcolor": "rgb(232,232,232)",
                        "linecolor": "rgb(36,36,36)",
                        "showgrid": false,
                        "showline": true,
                        "ticks": "outside"
                      },
                      "bgcolor": "white",
                      "caxis": {
                        "gridcolor": "rgb(232,232,232)",
                        "linecolor": "rgb(36,36,36)",
                        "showgrid": false,
                        "showline": true,
                        "ticks": "outside"
                      }
                    },
                    "title": {
                      "x": 0.05
                    },
                    "xaxis": {
                      "automargin": true,
                      "gridcolor": "rgb(232,232,232)",
                      "linecolor": "rgb(36,36,36)",
                      "showgrid": false,
                      "showline": true,
                      "ticks": "outside",
                      "title": {
                        "standoff": 15
                      },
                      "zeroline": false,
                      "zerolinecolor": "rgb(36,36,36)"
                    },
                    "yaxis": {
                      "automargin": true,
                      "gridcolor": "rgb(232,232,232)",
                      "linecolor": "rgb(36,36,36)",
                      "showgrid": false,
                      "showline": true,
                      "ticks": "outside",
                      "title": {
                        "standoff": 15
                      },
                      "zeroline": false,
                      "zerolinecolor": "rgb(36,36,36)"
                    }
                  }
                },
                "title": {
                  "text": "Porównanie przekształcenia logarytmicznego<br>przy podstawie 2 i 10",
                  "x": 0.05
                },
                "xaxis": {
                  "showgrid": false,
                  "title": {
                    "text": "x"
                  }
                },
                "yaxis": {
                  "showgrid": false,
                  "title": {
                    "text": "log"
                  }
                }
              }
            }
          },
          "metadata": {},
          "output_type": "display_data"
        }
      ],
      "source": [
        "fig = go.Figure()\n",
        "\n",
        "fig.add_trace(go.Scatter(x=x, y=y2, mode='markers', name='2'))\n",
        "\n",
        "fig.add_trace(go.Scatter(x=x, y=y10, mode='markers', name='10'))\n",
        "\n",
        "fig.update_layout(title='Porównanie przekształcenia logarytmicznego<br>przy podstawie 2 i 10', \n",
        "                  xaxis_title='x', yaxis_title='log', legend_title='Podstawa', template = \"simple_white\"\n",
        "                  , xaxis=dict(showgrid=False),  title_x=0.05,\n",
        "                    yaxis=dict(showgrid=False))\n",
        "\n",
        "fig.show()"
      ]
    },
    {
      "cell_type": "markdown",
      "id": "6b82696d",
      "metadata": {
        "id": "6b82696d"
      },
      "source": [
        "Zadanie 6.\n",
        "Napisz program, który utworzy wykres bąbelkowy prezentujący zależność oczekiwanej długości życia od PKB *per capita* w poszczególnych regionach świata w 2007 roku."
      ]
    },
    {
      "cell_type": "code",
      "execution_count": 260,
      "id": "718fe1b8",
      "metadata": {},
      "outputs": [],
      "source": [
        "data_2007 = gap[gap['year'] == 2007]\n",
        "\n",
        "continents = data_2007['continent'].unique()"
      ]
    },
    {
      "cell_type": "code",
      "execution_count": 261,
      "id": "0a77bf43",
      "metadata": {
        "id": "0a77bf43"
      },
      "outputs": [
        {
          "data": {
            "application/vnd.plotly.v1+json": {
              "config": {
                "plotlyServerURL": "https://plot.ly"
              },
              "data": [
                {
                  "hovertemplate": "<b>%{hovertext}</b><br><br>continent=Asia<br>PKB per capita=%{x}<br>Długość życia=%{y}<br>pop=%{marker.size}<extra></extra>",
                  "hovertext": [
                    "Afghanistan",
                    "Bahrain",
                    "Bangladesh",
                    "Cambodia",
                    "China",
                    "Hong Kong, China",
                    "India",
                    "Indonesia",
                    "Iran",
                    "Iraq",
                    "Israel",
                    "Japan",
                    "Jordan",
                    "Korea, Dem. Rep.",
                    "Korea, Rep.",
                    "Kuwait",
                    "Lebanon",
                    "Malaysia",
                    "Mongolia",
                    "Myanmar",
                    "Nepal",
                    "Oman",
                    "Pakistan",
                    "Philippines",
                    "Saudi Arabia",
                    "Singapore",
                    "Sri Lanka",
                    "Syria",
                    "Taiwan",
                    "Thailand",
                    "Vietnam",
                    "West Bank and Gaza",
                    "Yemen, Rep."
                  ],
                  "legendgroup": "Asia",
                  "marker": {
                    "color": "#636efa",
                    "size": [
                      31889923,
                      708573,
                      150448339,
                      14131858,
                      1318683096,
                      6980412,
                      1110396331,
                      223547000,
                      69453570,
                      27499638,
                      6426679,
                      127467972,
                      6053193,
                      23301725,
                      49044790,
                      2505559,
                      3921278,
                      24821286,
                      2874127,
                      47761980,
                      28901790,
                      3204897,
                      169270617,
                      91077287,
                      27601038,
                      4553009,
                      20378239,
                      19314747,
                      23174294,
                      65068149,
                      85262356,
                      4018332,
                      22211743
                    ],
                    "sizemode": "area",
                    "sizeref": 366300.86,
                    "symbol": "circle"
                  },
                  "mode": "markers",
                  "name": "Asia",
                  "orientation": "v",
                  "showlegend": true,
                  "type": "scatter",
                  "x": [
                    974.5803384,
                    29796.04834,
                    1391.253792,
                    1713.778686,
                    4959.114854,
                    39724.97867,
                    2452.210407,
                    3540.651564,
                    11605.71449,
                    4471.061906,
                    25523.2771,
                    31656.06806,
                    4519.461171,
                    1593.06548,
                    23348.139730000006,
                    47306.98978,
                    10461.05868,
                    12451.6558,
                    3095.7722710000007,
                    944,
                    1091.359778,
                    22316.19287,
                    2605.94758,
                    3190.481016,
                    21654.83194,
                    47143.17964,
                    3970.095407,
                    4184.548089,
                    28718.27684,
                    7458.396326999998,
                    2441.576404,
                    3025.349798,
                    2280.769906
                  ],
                  "xaxis": "x5",
                  "y": [
                    43.828,
                    75.635,
                    64.062,
                    59.723,
                    72.961,
                    82.208,
                    64.69800000000001,
                    70.65,
                    70.964,
                    59.545,
                    80.745,
                    82.603,
                    72.535,
                    67.297,
                    78.623,
                    77.58800000000002,
                    71.993,
                    74.241,
                    66.803,
                    62.069,
                    63.785,
                    75.64,
                    65.483,
                    71.688,
                    72.777,
                    79.972,
                    72.396,
                    74.143,
                    78.4,
                    70.616,
                    74.249,
                    73.422,
                    62.698
                  ],
                  "yaxis": "y5"
                },
                {
                  "hovertemplate": "<b>%{hovertext}</b><br><br>continent=Europe<br>PKB per capita=%{x}<br>Długość życia=%{y}<br>pop=%{marker.size}<extra></extra>",
                  "hovertext": [
                    "Albania",
                    "Austria",
                    "Belgium",
                    "Bosnia and Herzegovina",
                    "Bulgaria",
                    "Croatia",
                    "Czech Republic",
                    "Denmark",
                    "Finland",
                    "France",
                    "Germany",
                    "Greece",
                    "Hungary",
                    "Iceland",
                    "Ireland",
                    "Italy",
                    "Montenegro",
                    "Netherlands",
                    "Norway",
                    "Poland",
                    "Portugal",
                    "Romania",
                    "Serbia",
                    "Slovak Republic",
                    "Slovenia",
                    "Spain",
                    "Sweden",
                    "Switzerland",
                    "Turkey",
                    "United Kingdom"
                  ],
                  "legendgroup": "Europe",
                  "marker": {
                    "color": "#EF553B",
                    "size": [
                      3600523,
                      8199783,
                      10392226,
                      4552198,
                      7322858,
                      4493312,
                      10228744,
                      5468120,
                      5238460,
                      61083916,
                      82400996,
                      10706290,
                      9956108,
                      301931,
                      4109086,
                      58147733,
                      684736,
                      16570613,
                      4627926,
                      38518241,
                      10642836,
                      22276056,
                      10150265,
                      5447502,
                      2009245,
                      40448191,
                      9031088,
                      7554661,
                      71158647,
                      60776238
                    ],
                    "sizemode": "area",
                    "sizeref": 366300.86,
                    "symbol": "circle"
                  },
                  "mode": "markers",
                  "name": "Europe",
                  "orientation": "v",
                  "showlegend": true,
                  "type": "scatter",
                  "x": [
                    5937.029525999998,
                    36126.4927,
                    33692.60508,
                    7446.298803,
                    10680.79282,
                    14619.222719999998,
                    22833.30851,
                    35278.41874,
                    33207.0844,
                    30470.0167,
                    32170.37442,
                    27538.41188,
                    18008.94444,
                    36180.78919,
                    40675.99635,
                    28569.7197,
                    9253.896111,
                    36797.93332,
                    49357.19017,
                    15389.924680000002,
                    20509.64777,
                    10808.47561,
                    9786.534714,
                    18678.31435,
                    25768.25759,
                    28821.0637,
                    33859.74835,
                    37506.41907,
                    8458.276384,
                    33203.26128
                  ],
                  "xaxis": "x6",
                  "y": [
                    76.423,
                    79.829,
                    79.441,
                    74.852,
                    73.005,
                    75.748,
                    76.486,
                    78.332,
                    79.313,
                    80.657,
                    79.406,
                    79.483,
                    73.33800000000002,
                    81.757,
                    78.885,
                    80.546,
                    74.543,
                    79.762,
                    80.196,
                    75.563,
                    78.098,
                    72.476,
                    74.002,
                    74.663,
                    77.926,
                    80.941,
                    80.884,
                    81.70100000000002,
                    71.777,
                    79.425
                  ],
                  "yaxis": "y6"
                },
                {
                  "hovertemplate": "<b>%{hovertext}</b><br><br>continent=Africa<br>PKB per capita=%{x}<br>Długość życia=%{y}<br>pop=%{marker.size}<extra></extra>",
                  "hovertext": [
                    "Algeria",
                    "Angola",
                    "Benin",
                    "Botswana",
                    "Burkina Faso",
                    "Burundi",
                    "Cameroon",
                    "Central African Republic",
                    "Chad",
                    "Comoros",
                    "Congo, Dem. Rep.",
                    "Congo, Rep.",
                    "Cote d'Ivoire",
                    "Djibouti",
                    "Egypt",
                    "Equatorial Guinea",
                    "Eritrea",
                    "Ethiopia",
                    "Gabon",
                    "Gambia",
                    "Ghana",
                    "Guinea",
                    "Guinea-Bissau",
                    "Kenya",
                    "Lesotho",
                    "Liberia",
                    "Libya",
                    "Madagascar",
                    "Malawi",
                    "Mali",
                    "Mauritania",
                    "Mauritius",
                    "Morocco",
                    "Mozambique",
                    "Namibia",
                    "Niger",
                    "Nigeria",
                    "Reunion",
                    "Rwanda",
                    "Sao Tome and Principe",
                    "Senegal",
                    "Sierra Leone",
                    "Somalia",
                    "South Africa",
                    "Sudan",
                    "Swaziland",
                    "Tanzania",
                    "Togo",
                    "Tunisia",
                    "Uganda",
                    "Zambia",
                    "Zimbabwe"
                  ],
                  "legendgroup": "Africa",
                  "marker": {
                    "color": "#00cc96",
                    "size": [
                      33333216,
                      12420476,
                      8078314,
                      1639131,
                      14326203,
                      8390505,
                      17696293,
                      4369038,
                      10238807,
                      710960,
                      64606759,
                      3800610,
                      18013409,
                      496374,
                      80264543,
                      551201,
                      4906585,
                      76511887,
                      1454867,
                      1688359,
                      22873338,
                      9947814,
                      1472041,
                      35610177,
                      2012649,
                      3193942,
                      6036914,
                      19167654,
                      13327079,
                      12031795,
                      3270065,
                      1250882,
                      33757175,
                      19951656,
                      2055080,
                      12894865,
                      135031164,
                      798094,
                      8860588,
                      199579,
                      12267493,
                      6144562,
                      9118773,
                      43997828,
                      42292929,
                      1133066,
                      38139640,
                      5701579,
                      10276158,
                      29170398,
                      11746035,
                      12311143
                    ],
                    "sizemode": "area",
                    "sizeref": 366300.86,
                    "symbol": "circle"
                  },
                  "mode": "markers",
                  "name": "Africa",
                  "orientation": "v",
                  "showlegend": true,
                  "type": "scatter",
                  "x": [
                    6223.367465,
                    4797.231267,
                    1441.284873,
                    12569.85177,
                    1217.032994,
                    430.0706916,
                    2042.09524,
                    706.016537,
                    1704.063724,
                    986.1478792,
                    277.5518587,
                    3632.557798,
                    1544.750112,
                    2082.4815670000007,
                    5581.180998,
                    12154.08975,
                    641.3695236000002,
                    690.8055759,
                    13206.48452,
                    752.7497265,
                    1327.60891,
                    942.6542111,
                    579.2317429999998,
                    1463.249282,
                    1569.331442,
                    414.5073415,
                    12057.49928,
                    1044.770126,
                    759.3499101,
                    1042.581557,
                    1803.151496,
                    10956.99112,
                    3820.17523,
                    823.6856205,
                    4811.060429,
                    619.6768923999998,
                    2013.977305,
                    7670.122558,
                    863.0884639000002,
                    1598.435089,
                    1712.472136,
                    862.5407561000002,
                    926.1410683,
                    9269.657808,
                    2602.394995,
                    4513.480643,
                    1107.482182,
                    882.9699437999999,
                    7092.923025,
                    1056.380121,
                    1271.211593,
                    469.70929810000007
                  ],
                  "xaxis": "x3",
                  "y": [
                    72.301,
                    42.731,
                    56.728,
                    50.728,
                    52.295,
                    49.58,
                    50.43,
                    44.74100000000001,
                    50.651,
                    65.152,
                    46.462,
                    55.322,
                    48.328,
                    54.791,
                    71.33800000000002,
                    51.57899999999999,
                    58.04,
                    52.947,
                    56.735,
                    59.448,
                    60.022,
                    56.007,
                    46.38800000000001,
                    54.11,
                    42.592,
                    45.678,
                    73.952,
                    59.44300000000001,
                    48.303,
                    54.467,
                    64.164,
                    72.801,
                    71.164,
                    42.082,
                    52.90600000000001,
                    56.867,
                    46.859,
                    76.442,
                    46.242,
                    65.528,
                    63.062,
                    42.56800000000001,
                    48.159,
                    49.339,
                    58.556,
                    39.613,
                    52.517,
                    58.42,
                    73.923,
                    51.542,
                    42.38399999999999,
                    43.487
                  ],
                  "yaxis": "y3"
                },
                {
                  "hovertemplate": "<b>%{hovertext}</b><br><br>continent=Americas<br>PKB per capita=%{x}<br>Długość życia=%{y}<br>pop=%{marker.size}<extra></extra>",
                  "hovertext": [
                    "Argentina",
                    "Bolivia",
                    "Brazil",
                    "Canada",
                    "Chile",
                    "Colombia",
                    "Costa Rica",
                    "Cuba",
                    "Dominican Republic",
                    "Ecuador",
                    "El Salvador",
                    "Guatemala",
                    "Haiti",
                    "Honduras",
                    "Jamaica",
                    "Mexico",
                    "Nicaragua",
                    "Panama",
                    "Paraguay",
                    "Peru",
                    "Puerto Rico",
                    "Trinidad and Tobago",
                    "United States",
                    "Uruguay",
                    "Venezuela"
                  ],
                  "legendgroup": "Americas",
                  "marker": {
                    "color": "#ab63fa",
                    "size": [
                      40301927,
                      9119152,
                      190010647,
                      33390141,
                      16284741,
                      44227550,
                      4133884,
                      11416987,
                      9319622,
                      13755680,
                      6939688,
                      12572928,
                      8502814,
                      7483763,
                      2780132,
                      108700891,
                      5675356,
                      3242173,
                      6667147,
                      28674757,
                      3942491,
                      1056608,
                      301139947,
                      3447496,
                      26084662
                    ],
                    "sizemode": "area",
                    "sizeref": 366300.86,
                    "symbol": "circle"
                  },
                  "mode": "markers",
                  "name": "Americas",
                  "orientation": "v",
                  "showlegend": true,
                  "type": "scatter",
                  "x": [
                    12779.37964,
                    3822.137084,
                    9065.800825,
                    36319.23501,
                    13171.63885,
                    7006.580419,
                    9645.06142,
                    8948.102923,
                    6025.3747520000015,
                    6873.262326000001,
                    5728.353514,
                    5186.050003,
                    1201.637154,
                    3548.3308460000007,
                    7320.8802620000015,
                    11977.57496,
                    2749.320965,
                    9809.185636,
                    4172.838464,
                    7408.905561,
                    19328.70901,
                    18008.50924,
                    42951.65309,
                    10611.46299,
                    11415.80569
                  ],
                  "xaxis": "x4",
                  "y": [
                    75.32,
                    65.554,
                    72.39,
                    80.653,
                    78.553,
                    72.889,
                    78.782,
                    78.273,
                    72.235,
                    74.994,
                    71.878,
                    70.259,
                    60.916,
                    70.19800000000001,
                    72.567,
                    76.195,
                    72.899,
                    75.53699999999998,
                    71.752,
                    71.421,
                    78.74600000000002,
                    69.819,
                    78.242,
                    76.384,
                    73.747
                  ],
                  "yaxis": "y4"
                },
                {
                  "hovertemplate": "<b>%{hovertext}</b><br><br>continent=Oceania<br>PKB per capita=%{x}<br>Długość życia=%{y}<br>pop=%{marker.size}<extra></extra>",
                  "hovertext": [
                    "Australia",
                    "New Zealand"
                  ],
                  "legendgroup": "Oceania",
                  "marker": {
                    "color": "#FFA15A",
                    "size": [
                      20434176,
                      4115771
                    ],
                    "sizemode": "area",
                    "sizeref": 366300.86,
                    "symbol": "circle"
                  },
                  "mode": "markers",
                  "name": "Oceania",
                  "orientation": "v",
                  "showlegend": true,
                  "type": "scatter",
                  "x": [
                    34435.367439999995,
                    25185.00911
                  ],
                  "xaxis": "x",
                  "y": [
                    81.235,
                    80.204
                  ],
                  "yaxis": "y"
                }
              ],
              "layout": {
                "annotations": [
                  {
                    "font": {},
                    "showarrow": false,
                    "text": "Oceania",
                    "x": 0.245,
                    "xanchor": "center",
                    "xref": "paper",
                    "y": 0.2866666666666666,
                    "yanchor": "bottom",
                    "yref": "paper"
                  },
                  {
                    "font": {},
                    "showarrow": false,
                    "text": "Africa",
                    "x": 0.245,
                    "xanchor": "center",
                    "xref": "paper",
                    "y": 0.6433333333333333,
                    "yanchor": "bottom",
                    "yref": "paper"
                  },
                  {
                    "font": {},
                    "showarrow": false,
                    "text": "Americas",
                    "x": 0.755,
                    "xanchor": "center",
                    "xref": "paper",
                    "y": 0.6433333333333333,
                    "yanchor": "bottom",
                    "yref": "paper"
                  },
                  {
                    "font": {},
                    "showarrow": false,
                    "text": "Asia",
                    "x": 0.245,
                    "xanchor": "center",
                    "xref": "paper",
                    "y": 0.9999999999999999,
                    "yanchor": "bottom",
                    "yref": "paper"
                  },
                  {
                    "font": {},
                    "showarrow": false,
                    "text": "Europe",
                    "x": 0.755,
                    "xanchor": "center",
                    "xref": "paper",
                    "y": 0.9999999999999999,
                    "yanchor": "bottom",
                    "yref": "paper"
                  }
                ],
                "legend": {
                  "itemsizing": "constant",
                  "title": {
                    "text": "Region"
                  },
                  "tracegroupgap": 0
                },
                "template": {
                  "data": {
                    "bar": [
                      {
                        "error_x": {
                          "color": "#2a3f5f"
                        },
                        "error_y": {
                          "color": "#2a3f5f"
                        },
                        "marker": {
                          "line": {
                            "color": "#E5ECF6",
                            "width": 0.5
                          },
                          "pattern": {
                            "fillmode": "overlay",
                            "size": 10,
                            "solidity": 0.2
                          }
                        },
                        "type": "bar"
                      }
                    ],
                    "barpolar": [
                      {
                        "marker": {
                          "line": {
                            "color": "#E5ECF6",
                            "width": 0.5
                          },
                          "pattern": {
                            "fillmode": "overlay",
                            "size": 10,
                            "solidity": 0.2
                          }
                        },
                        "type": "barpolar"
                      }
                    ],
                    "carpet": [
                      {
                        "aaxis": {
                          "endlinecolor": "#2a3f5f",
                          "gridcolor": "white",
                          "linecolor": "white",
                          "minorgridcolor": "white",
                          "startlinecolor": "#2a3f5f"
                        },
                        "baxis": {
                          "endlinecolor": "#2a3f5f",
                          "gridcolor": "white",
                          "linecolor": "white",
                          "minorgridcolor": "white",
                          "startlinecolor": "#2a3f5f"
                        },
                        "type": "carpet"
                      }
                    ],
                    "choropleth": [
                      {
                        "colorbar": {
                          "outlinewidth": 0,
                          "ticks": ""
                        },
                        "type": "choropleth"
                      }
                    ],
                    "contour": [
                      {
                        "colorbar": {
                          "outlinewidth": 0,
                          "ticks": ""
                        },
                        "colorscale": [
                          [
                            0,
                            "#0d0887"
                          ],
                          [
                            0.1111111111111111,
                            "#46039f"
                          ],
                          [
                            0.2222222222222222,
                            "#7201a8"
                          ],
                          [
                            0.3333333333333333,
                            "#9c179e"
                          ],
                          [
                            0.4444444444444444,
                            "#bd3786"
                          ],
                          [
                            0.5555555555555556,
                            "#d8576b"
                          ],
                          [
                            0.6666666666666666,
                            "#ed7953"
                          ],
                          [
                            0.7777777777777778,
                            "#fb9f3a"
                          ],
                          [
                            0.8888888888888888,
                            "#fdca26"
                          ],
                          [
                            1,
                            "#f0f921"
                          ]
                        ],
                        "type": "contour"
                      }
                    ],
                    "contourcarpet": [
                      {
                        "colorbar": {
                          "outlinewidth": 0,
                          "ticks": ""
                        },
                        "type": "contourcarpet"
                      }
                    ],
                    "heatmap": [
                      {
                        "colorbar": {
                          "outlinewidth": 0,
                          "ticks": ""
                        },
                        "colorscale": [
                          [
                            0,
                            "#0d0887"
                          ],
                          [
                            0.1111111111111111,
                            "#46039f"
                          ],
                          [
                            0.2222222222222222,
                            "#7201a8"
                          ],
                          [
                            0.3333333333333333,
                            "#9c179e"
                          ],
                          [
                            0.4444444444444444,
                            "#bd3786"
                          ],
                          [
                            0.5555555555555556,
                            "#d8576b"
                          ],
                          [
                            0.6666666666666666,
                            "#ed7953"
                          ],
                          [
                            0.7777777777777778,
                            "#fb9f3a"
                          ],
                          [
                            0.8888888888888888,
                            "#fdca26"
                          ],
                          [
                            1,
                            "#f0f921"
                          ]
                        ],
                        "type": "heatmap"
                      }
                    ],
                    "heatmapgl": [
                      {
                        "colorbar": {
                          "outlinewidth": 0,
                          "ticks": ""
                        },
                        "colorscale": [
                          [
                            0,
                            "#0d0887"
                          ],
                          [
                            0.1111111111111111,
                            "#46039f"
                          ],
                          [
                            0.2222222222222222,
                            "#7201a8"
                          ],
                          [
                            0.3333333333333333,
                            "#9c179e"
                          ],
                          [
                            0.4444444444444444,
                            "#bd3786"
                          ],
                          [
                            0.5555555555555556,
                            "#d8576b"
                          ],
                          [
                            0.6666666666666666,
                            "#ed7953"
                          ],
                          [
                            0.7777777777777778,
                            "#fb9f3a"
                          ],
                          [
                            0.8888888888888888,
                            "#fdca26"
                          ],
                          [
                            1,
                            "#f0f921"
                          ]
                        ],
                        "type": "heatmapgl"
                      }
                    ],
                    "histogram": [
                      {
                        "marker": {
                          "pattern": {
                            "fillmode": "overlay",
                            "size": 10,
                            "solidity": 0.2
                          }
                        },
                        "type": "histogram"
                      }
                    ],
                    "histogram2d": [
                      {
                        "colorbar": {
                          "outlinewidth": 0,
                          "ticks": ""
                        },
                        "colorscale": [
                          [
                            0,
                            "#0d0887"
                          ],
                          [
                            0.1111111111111111,
                            "#46039f"
                          ],
                          [
                            0.2222222222222222,
                            "#7201a8"
                          ],
                          [
                            0.3333333333333333,
                            "#9c179e"
                          ],
                          [
                            0.4444444444444444,
                            "#bd3786"
                          ],
                          [
                            0.5555555555555556,
                            "#d8576b"
                          ],
                          [
                            0.6666666666666666,
                            "#ed7953"
                          ],
                          [
                            0.7777777777777778,
                            "#fb9f3a"
                          ],
                          [
                            0.8888888888888888,
                            "#fdca26"
                          ],
                          [
                            1,
                            "#f0f921"
                          ]
                        ],
                        "type": "histogram2d"
                      }
                    ],
                    "histogram2dcontour": [
                      {
                        "colorbar": {
                          "outlinewidth": 0,
                          "ticks": ""
                        },
                        "colorscale": [
                          [
                            0,
                            "#0d0887"
                          ],
                          [
                            0.1111111111111111,
                            "#46039f"
                          ],
                          [
                            0.2222222222222222,
                            "#7201a8"
                          ],
                          [
                            0.3333333333333333,
                            "#9c179e"
                          ],
                          [
                            0.4444444444444444,
                            "#bd3786"
                          ],
                          [
                            0.5555555555555556,
                            "#d8576b"
                          ],
                          [
                            0.6666666666666666,
                            "#ed7953"
                          ],
                          [
                            0.7777777777777778,
                            "#fb9f3a"
                          ],
                          [
                            0.8888888888888888,
                            "#fdca26"
                          ],
                          [
                            1,
                            "#f0f921"
                          ]
                        ],
                        "type": "histogram2dcontour"
                      }
                    ],
                    "mesh3d": [
                      {
                        "colorbar": {
                          "outlinewidth": 0,
                          "ticks": ""
                        },
                        "type": "mesh3d"
                      }
                    ],
                    "parcoords": [
                      {
                        "line": {
                          "colorbar": {
                            "outlinewidth": 0,
                            "ticks": ""
                          }
                        },
                        "type": "parcoords"
                      }
                    ],
                    "pie": [
                      {
                        "automargin": true,
                        "type": "pie"
                      }
                    ],
                    "scatter": [
                      {
                        "fillpattern": {
                          "fillmode": "overlay",
                          "size": 10,
                          "solidity": 0.2
                        },
                        "type": "scatter"
                      }
                    ],
                    "scatter3d": [
                      {
                        "line": {
                          "colorbar": {
                            "outlinewidth": 0,
                            "ticks": ""
                          }
                        },
                        "marker": {
                          "colorbar": {
                            "outlinewidth": 0,
                            "ticks": ""
                          }
                        },
                        "type": "scatter3d"
                      }
                    ],
                    "scattercarpet": [
                      {
                        "marker": {
                          "colorbar": {
                            "outlinewidth": 0,
                            "ticks": ""
                          }
                        },
                        "type": "scattercarpet"
                      }
                    ],
                    "scattergeo": [
                      {
                        "marker": {
                          "colorbar": {
                            "outlinewidth": 0,
                            "ticks": ""
                          }
                        },
                        "type": "scattergeo"
                      }
                    ],
                    "scattergl": [
                      {
                        "marker": {
                          "colorbar": {
                            "outlinewidth": 0,
                            "ticks": ""
                          }
                        },
                        "type": "scattergl"
                      }
                    ],
                    "scattermapbox": [
                      {
                        "marker": {
                          "colorbar": {
                            "outlinewidth": 0,
                            "ticks": ""
                          }
                        },
                        "type": "scattermapbox"
                      }
                    ],
                    "scatterpolar": [
                      {
                        "marker": {
                          "colorbar": {
                            "outlinewidth": 0,
                            "ticks": ""
                          }
                        },
                        "type": "scatterpolar"
                      }
                    ],
                    "scatterpolargl": [
                      {
                        "marker": {
                          "colorbar": {
                            "outlinewidth": 0,
                            "ticks": ""
                          }
                        },
                        "type": "scatterpolargl"
                      }
                    ],
                    "scatterternary": [
                      {
                        "marker": {
                          "colorbar": {
                            "outlinewidth": 0,
                            "ticks": ""
                          }
                        },
                        "type": "scatterternary"
                      }
                    ],
                    "surface": [
                      {
                        "colorbar": {
                          "outlinewidth": 0,
                          "ticks": ""
                        },
                        "colorscale": [
                          [
                            0,
                            "#0d0887"
                          ],
                          [
                            0.1111111111111111,
                            "#46039f"
                          ],
                          [
                            0.2222222222222222,
                            "#7201a8"
                          ],
                          [
                            0.3333333333333333,
                            "#9c179e"
                          ],
                          [
                            0.4444444444444444,
                            "#bd3786"
                          ],
                          [
                            0.5555555555555556,
                            "#d8576b"
                          ],
                          [
                            0.6666666666666666,
                            "#ed7953"
                          ],
                          [
                            0.7777777777777778,
                            "#fb9f3a"
                          ],
                          [
                            0.8888888888888888,
                            "#fdca26"
                          ],
                          [
                            1,
                            "#f0f921"
                          ]
                        ],
                        "type": "surface"
                      }
                    ],
                    "table": [
                      {
                        "cells": {
                          "fill": {
                            "color": "#EBF0F8"
                          },
                          "line": {
                            "color": "white"
                          }
                        },
                        "header": {
                          "fill": {
                            "color": "#C8D4E3"
                          },
                          "line": {
                            "color": "white"
                          }
                        },
                        "type": "table"
                      }
                    ]
                  },
                  "layout": {
                    "annotationdefaults": {
                      "arrowcolor": "#2a3f5f",
                      "arrowhead": 0,
                      "arrowwidth": 1
                    },
                    "autotypenumbers": "strict",
                    "coloraxis": {
                      "colorbar": {
                        "outlinewidth": 0,
                        "ticks": ""
                      }
                    },
                    "colorscale": {
                      "diverging": [
                        [
                          0,
                          "#8e0152"
                        ],
                        [
                          0.1,
                          "#c51b7d"
                        ],
                        [
                          0.2,
                          "#de77ae"
                        ],
                        [
                          0.3,
                          "#f1b6da"
                        ],
                        [
                          0.4,
                          "#fde0ef"
                        ],
                        [
                          0.5,
                          "#f7f7f7"
                        ],
                        [
                          0.6,
                          "#e6f5d0"
                        ],
                        [
                          0.7,
                          "#b8e186"
                        ],
                        [
                          0.8,
                          "#7fbc41"
                        ],
                        [
                          0.9,
                          "#4d9221"
                        ],
                        [
                          1,
                          "#276419"
                        ]
                      ],
                      "sequential": [
                        [
                          0,
                          "#0d0887"
                        ],
                        [
                          0.1111111111111111,
                          "#46039f"
                        ],
                        [
                          0.2222222222222222,
                          "#7201a8"
                        ],
                        [
                          0.3333333333333333,
                          "#9c179e"
                        ],
                        [
                          0.4444444444444444,
                          "#bd3786"
                        ],
                        [
                          0.5555555555555556,
                          "#d8576b"
                        ],
                        [
                          0.6666666666666666,
                          "#ed7953"
                        ],
                        [
                          0.7777777777777778,
                          "#fb9f3a"
                        ],
                        [
                          0.8888888888888888,
                          "#fdca26"
                        ],
                        [
                          1,
                          "#f0f921"
                        ]
                      ],
                      "sequentialminus": [
                        [
                          0,
                          "#0d0887"
                        ],
                        [
                          0.1111111111111111,
                          "#46039f"
                        ],
                        [
                          0.2222222222222222,
                          "#7201a8"
                        ],
                        [
                          0.3333333333333333,
                          "#9c179e"
                        ],
                        [
                          0.4444444444444444,
                          "#bd3786"
                        ],
                        [
                          0.5555555555555556,
                          "#d8576b"
                        ],
                        [
                          0.6666666666666666,
                          "#ed7953"
                        ],
                        [
                          0.7777777777777778,
                          "#fb9f3a"
                        ],
                        [
                          0.8888888888888888,
                          "#fdca26"
                        ],
                        [
                          1,
                          "#f0f921"
                        ]
                      ]
                    },
                    "colorway": [
                      "#636efa",
                      "#EF553B",
                      "#00cc96",
                      "#ab63fa",
                      "#FFA15A",
                      "#19d3f3",
                      "#FF6692",
                      "#B6E880",
                      "#FF97FF",
                      "#FECB52"
                    ],
                    "font": {
                      "color": "#2a3f5f"
                    },
                    "geo": {
                      "bgcolor": "white",
                      "lakecolor": "white",
                      "landcolor": "#E5ECF6",
                      "showlakes": true,
                      "showland": true,
                      "subunitcolor": "white"
                    },
                    "hoverlabel": {
                      "align": "left"
                    },
                    "hovermode": "closest",
                    "mapbox": {
                      "style": "light"
                    },
                    "paper_bgcolor": "white",
                    "plot_bgcolor": "#E5ECF6",
                    "polar": {
                      "angularaxis": {
                        "gridcolor": "white",
                        "linecolor": "white",
                        "ticks": ""
                      },
                      "bgcolor": "#E5ECF6",
                      "radialaxis": {
                        "gridcolor": "white",
                        "linecolor": "white",
                        "ticks": ""
                      }
                    },
                    "scene": {
                      "xaxis": {
                        "backgroundcolor": "#E5ECF6",
                        "gridcolor": "white",
                        "gridwidth": 2,
                        "linecolor": "white",
                        "showbackground": true,
                        "ticks": "",
                        "zerolinecolor": "white"
                      },
                      "yaxis": {
                        "backgroundcolor": "#E5ECF6",
                        "gridcolor": "white",
                        "gridwidth": 2,
                        "linecolor": "white",
                        "showbackground": true,
                        "ticks": "",
                        "zerolinecolor": "white"
                      },
                      "zaxis": {
                        "backgroundcolor": "#E5ECF6",
                        "gridcolor": "white",
                        "gridwidth": 2,
                        "linecolor": "white",
                        "showbackground": true,
                        "ticks": "",
                        "zerolinecolor": "white"
                      }
                    },
                    "shapedefaults": {
                      "line": {
                        "color": "#2a3f5f"
                      }
                    },
                    "ternary": {
                      "aaxis": {
                        "gridcolor": "white",
                        "linecolor": "white",
                        "ticks": ""
                      },
                      "baxis": {
                        "gridcolor": "white",
                        "linecolor": "white",
                        "ticks": ""
                      },
                      "bgcolor": "#E5ECF6",
                      "caxis": {
                        "gridcolor": "white",
                        "linecolor": "white",
                        "ticks": ""
                      }
                    },
                    "title": {
                      "x": 0.05
                    },
                    "xaxis": {
                      "automargin": true,
                      "gridcolor": "white",
                      "linecolor": "white",
                      "ticks": "",
                      "title": {
                        "standoff": 15
                      },
                      "zerolinecolor": "white",
                      "zerolinewidth": 2
                    },
                    "yaxis": {
                      "automargin": true,
                      "gridcolor": "white",
                      "linecolor": "white",
                      "ticks": "",
                      "title": {
                        "standoff": 15
                      },
                      "zerolinecolor": "white",
                      "zerolinewidth": 2
                    }
                  }
                },
                "title": {
                  "text": "Zależność oczekiwanej długości życia od PKB per capita w 2007 roku",
                  "x": 0.5
                },
                "xaxis": {
                  "anchor": "y",
                  "domain": [
                    0,
                    0.49
                  ],
                  "title": {
                    "text": "PKB per capita (log)"
                  },
                  "type": "log"
                },
                "xaxis2": {
                  "anchor": "y2",
                  "domain": [
                    0.51,
                    1
                  ],
                  "matches": "x",
                  "title": {
                    "text": "PKB per capita"
                  },
                  "type": "log"
                },
                "xaxis3": {
                  "anchor": "y3",
                  "domain": [
                    0,
                    0.49
                  ],
                  "matches": "x",
                  "showticklabels": false,
                  "type": "log"
                },
                "xaxis4": {
                  "anchor": "y4",
                  "domain": [
                    0.51,
                    1
                  ],
                  "matches": "x",
                  "showticklabels": false,
                  "type": "log"
                },
                "xaxis5": {
                  "anchor": "y5",
                  "domain": [
                    0,
                    0.49
                  ],
                  "matches": "x",
                  "showticklabels": false,
                  "type": "log"
                },
                "xaxis6": {
                  "anchor": "y6",
                  "domain": [
                    0.51,
                    1
                  ],
                  "matches": "x",
                  "showticklabels": false,
                  "type": "log"
                },
                "yaxis": {
                  "anchor": "x",
                  "domain": [
                    0,
                    0.2866666666666666
                  ],
                  "title": {
                    "text": "Długość życia"
                  }
                },
                "yaxis2": {
                  "anchor": "x2",
                  "domain": [
                    0,
                    0.2866666666666666
                  ],
                  "matches": "y",
                  "showticklabels": false
                },
                "yaxis3": {
                  "anchor": "x3",
                  "domain": [
                    0.35666666666666663,
                    0.6433333333333333
                  ],
                  "matches": "y",
                  "title": {
                    "text": "Długość życia"
                  }
                },
                "yaxis4": {
                  "anchor": "x4",
                  "domain": [
                    0.35666666666666663,
                    0.6433333333333333
                  ],
                  "matches": "y",
                  "showticklabels": false
                },
                "yaxis5": {
                  "anchor": "x5",
                  "domain": [
                    0.7133333333333333,
                    0.9999999999999999
                  ],
                  "matches": "y",
                  "title": {
                    "text": "Długość życia"
                  }
                },
                "yaxis6": {
                  "anchor": "x6",
                  "domain": [
                    0.7133333333333333,
                    0.9999999999999999
                  ],
                  "matches": "y",
                  "showticklabels": false
                }
              }
            }
          },
          "metadata": {},
          "output_type": "display_data"
        }
      ],
      "source": [
        "fig = px.scatter(data_2007, x='gdpPercap', y='lifeExp', size='pop', color='continent', hover_name='country',\n",
        "                 log_x=True, size_max=60, title='Zależność oczekiwanej długości życia od PKB per capita w 2007 roku',\n",
        "                 labels={'gdpPercap': 'PKB per capita', 'lifeExp': 'Długość życia'},\n",
        "                 facet_col=data_2007['continent'], facet_col_wrap=2)\n",
        "\n",
        "fig.update_layout(xaxis=dict(title='PKB per capita (log)'),\n",
        "                  yaxis=dict(title='Długość życia'),\n",
        "                  legend=dict(title='Region'),\n",
        "                  title_x=0.5)\n",
        "\n",
        "for annotation in fig.layout.annotations:\n",
        "    annotation.text = annotation.text.split(\"=\")[-1]\n",
        "\n",
        "fig.show()\n"
      ]
    },
    {
      "cell_type": "markdown",
      "id": "7a37bbb2",
      "metadata": {
        "id": "7a37bbb2"
      },
      "source": [
        "Zadanie 7.\n",
        "Napisz program, który utworzy wykres kolumnowy oczekiwanej długości życia w krajach europejskich w roku 2007. Wyróżnij Polskę na tle wszystkich krajów oraz kraje, w których oczekiwana długość życia jest mniejsza od oczekiwanej długości życia w Polsce.\n"
      ]
    },
    {
      "cell_type": "code",
      "execution_count": 269,
      "id": "a2a94eae",
      "metadata": {},
      "outputs": [],
      "source": [
        "data_europe_2007 = gap[(gap['year'] == 2007) & (gap['continent'] == 'Europe')]\n",
        "\n",
        "data_europe_2007_sorted = data_europe_2007.sort_values(by='lifeExp', ascending=True)\n",
        "\n",
        "colors = ['rgb(178, 34, 34)' if country == 'Poland' else \n",
        "          ('rgb(34, 139, 34)' if lifeExp > data_europe_2007_sorted['lifeExp'].loc[data_europe_2007_sorted['country'] == 'Poland'].values[0] \n",
        "            else 'rgb(205, 92, 92)') for lifeExp, country in zip(data_europe_2007_sorted['lifeExp'], data_europe_2007_sorted['country'])]"
      ]
    },
    {
      "cell_type": "code",
      "execution_count": 263,
      "id": "e7e649b9",
      "metadata": {},
      "outputs": [
        {
          "name": "stdout",
          "output_type": "stream",
          "text": [
            "['rgb(220, 20, 60)', 'rgb(220, 20, 60)', 'rgb(220, 20, 60)', 'rgb(220, 20, 60)', 'rgb(220, 20, 60)', 'rgb(220, 20, 60)', 'rgb(220, 20, 60)', 'rgb(220, 20, 60)', 'rgb(220, 20, 60)', 'rgb(34, 139, 34)', 'rgb(34, 139, 34)', 'rgb(34, 139, 34)', 'rgb(34, 139, 34)', 'rgb(34, 139, 34)', 'rgb(34, 139, 34)', 'rgb(34, 139, 34)', 'rgb(34, 139, 34)', 'rgb(34, 139, 34)', 'rgb(34, 139, 34)', 'rgb(34, 139, 34)', 'rgb(34, 139, 34)', 'rgb(34, 139, 34)', 'rgb(34, 139, 34)', 'rgb(34, 139, 34)', 'rgb(34, 139, 34)', 'rgb(34, 139, 34)', 'rgb(34, 139, 34)', 'rgb(34, 139, 34)', 'rgb(34, 139, 34)', 'rgb(34, 139, 34)']\n"
          ]
        }
      ],
      "source": [
        "print(colors)\n"
      ]
    },
    {
      "cell_type": "code",
      "execution_count": 270,
      "id": "644eb9ed",
      "metadata": {
        "id": "644eb9ed"
      },
      "outputs": [
        {
          "data": {
            "application/vnd.plotly.v1+json": {
              "config": {
                "plotlyServerURL": "https://plot.ly"
              },
              "data": [
                {
                  "marker": {
                    "color": [
                      "rgb(205, 92, 92)",
                      "rgb(205, 92, 92)",
                      "rgb(205, 92, 92)",
                      "rgb(205, 92, 92)",
                      "rgb(205, 92, 92)",
                      "rgb(205, 92, 92)",
                      "rgb(205, 92, 92)",
                      "rgb(205, 92, 92)",
                      "rgb(178, 34, 34)",
                      "rgb(34, 139, 34)",
                      "rgb(34, 139, 34)",
                      "rgb(34, 139, 34)",
                      "rgb(34, 139, 34)",
                      "rgb(34, 139, 34)",
                      "rgb(34, 139, 34)",
                      "rgb(34, 139, 34)",
                      "rgb(34, 139, 34)",
                      "rgb(34, 139, 34)",
                      "rgb(34, 139, 34)",
                      "rgb(34, 139, 34)",
                      "rgb(34, 139, 34)",
                      "rgb(34, 139, 34)",
                      "rgb(34, 139, 34)",
                      "rgb(34, 139, 34)",
                      "rgb(34, 139, 34)",
                      "rgb(34, 139, 34)",
                      "rgb(34, 139, 34)",
                      "rgb(34, 139, 34)",
                      "rgb(34, 139, 34)",
                      "rgb(34, 139, 34)"
                    ]
                  },
                  "orientation": "h",
                  "type": "bar",
                  "x": [
                    71.777,
                    72.476,
                    73.005,
                    73.33800000000002,
                    74.002,
                    74.543,
                    74.663,
                    74.852,
                    75.563,
                    75.748,
                    76.423,
                    76.486,
                    77.926,
                    78.098,
                    78.332,
                    78.885,
                    79.313,
                    79.406,
                    79.425,
                    79.441,
                    79.483,
                    79.762,
                    79.829,
                    80.196,
                    80.546,
                    80.657,
                    80.884,
                    80.941,
                    81.70100000000002,
                    81.757
                  ],
                  "y": [
                    "Turkey",
                    "Romania",
                    "Bulgaria",
                    "Hungary",
                    "Serbia",
                    "Montenegro",
                    "Slovak Republic",
                    "Bosnia and Herzegovina",
                    "Poland",
                    "Croatia",
                    "Albania",
                    "Czech Republic",
                    "Slovenia",
                    "Portugal",
                    "Denmark",
                    "Ireland",
                    "Finland",
                    "Germany",
                    "United Kingdom",
                    "Belgium",
                    "Greece",
                    "Netherlands",
                    "Austria",
                    "Norway",
                    "Italy",
                    "France",
                    "Sweden",
                    "Spain",
                    "Switzerland",
                    "Iceland"
                  ]
                }
              ],
              "layout": {
                "height": 900,
                "template": {
                  "data": {
                    "bar": [
                      {
                        "error_x": {
                          "color": "#2a3f5f"
                        },
                        "error_y": {
                          "color": "#2a3f5f"
                        },
                        "marker": {
                          "line": {
                            "color": "white",
                            "width": 0.5
                          },
                          "pattern": {
                            "fillmode": "overlay",
                            "size": 10,
                            "solidity": 0.2
                          }
                        },
                        "type": "bar"
                      }
                    ],
                    "barpolar": [
                      {
                        "marker": {
                          "line": {
                            "color": "white",
                            "width": 0.5
                          },
                          "pattern": {
                            "fillmode": "overlay",
                            "size": 10,
                            "solidity": 0.2
                          }
                        },
                        "type": "barpolar"
                      }
                    ],
                    "carpet": [
                      {
                        "aaxis": {
                          "endlinecolor": "#2a3f5f",
                          "gridcolor": "#C8D4E3",
                          "linecolor": "#C8D4E3",
                          "minorgridcolor": "#C8D4E3",
                          "startlinecolor": "#2a3f5f"
                        },
                        "baxis": {
                          "endlinecolor": "#2a3f5f",
                          "gridcolor": "#C8D4E3",
                          "linecolor": "#C8D4E3",
                          "minorgridcolor": "#C8D4E3",
                          "startlinecolor": "#2a3f5f"
                        },
                        "type": "carpet"
                      }
                    ],
                    "choropleth": [
                      {
                        "colorbar": {
                          "outlinewidth": 0,
                          "ticks": ""
                        },
                        "type": "choropleth"
                      }
                    ],
                    "contour": [
                      {
                        "colorbar": {
                          "outlinewidth": 0,
                          "ticks": ""
                        },
                        "colorscale": [
                          [
                            0,
                            "#0d0887"
                          ],
                          [
                            0.1111111111111111,
                            "#46039f"
                          ],
                          [
                            0.2222222222222222,
                            "#7201a8"
                          ],
                          [
                            0.3333333333333333,
                            "#9c179e"
                          ],
                          [
                            0.4444444444444444,
                            "#bd3786"
                          ],
                          [
                            0.5555555555555556,
                            "#d8576b"
                          ],
                          [
                            0.6666666666666666,
                            "#ed7953"
                          ],
                          [
                            0.7777777777777778,
                            "#fb9f3a"
                          ],
                          [
                            0.8888888888888888,
                            "#fdca26"
                          ],
                          [
                            1,
                            "#f0f921"
                          ]
                        ],
                        "type": "contour"
                      }
                    ],
                    "contourcarpet": [
                      {
                        "colorbar": {
                          "outlinewidth": 0,
                          "ticks": ""
                        },
                        "type": "contourcarpet"
                      }
                    ],
                    "heatmap": [
                      {
                        "colorbar": {
                          "outlinewidth": 0,
                          "ticks": ""
                        },
                        "colorscale": [
                          [
                            0,
                            "#0d0887"
                          ],
                          [
                            0.1111111111111111,
                            "#46039f"
                          ],
                          [
                            0.2222222222222222,
                            "#7201a8"
                          ],
                          [
                            0.3333333333333333,
                            "#9c179e"
                          ],
                          [
                            0.4444444444444444,
                            "#bd3786"
                          ],
                          [
                            0.5555555555555556,
                            "#d8576b"
                          ],
                          [
                            0.6666666666666666,
                            "#ed7953"
                          ],
                          [
                            0.7777777777777778,
                            "#fb9f3a"
                          ],
                          [
                            0.8888888888888888,
                            "#fdca26"
                          ],
                          [
                            1,
                            "#f0f921"
                          ]
                        ],
                        "type": "heatmap"
                      }
                    ],
                    "heatmapgl": [
                      {
                        "colorbar": {
                          "outlinewidth": 0,
                          "ticks": ""
                        },
                        "colorscale": [
                          [
                            0,
                            "#0d0887"
                          ],
                          [
                            0.1111111111111111,
                            "#46039f"
                          ],
                          [
                            0.2222222222222222,
                            "#7201a8"
                          ],
                          [
                            0.3333333333333333,
                            "#9c179e"
                          ],
                          [
                            0.4444444444444444,
                            "#bd3786"
                          ],
                          [
                            0.5555555555555556,
                            "#d8576b"
                          ],
                          [
                            0.6666666666666666,
                            "#ed7953"
                          ],
                          [
                            0.7777777777777778,
                            "#fb9f3a"
                          ],
                          [
                            0.8888888888888888,
                            "#fdca26"
                          ],
                          [
                            1,
                            "#f0f921"
                          ]
                        ],
                        "type": "heatmapgl"
                      }
                    ],
                    "histogram": [
                      {
                        "marker": {
                          "pattern": {
                            "fillmode": "overlay",
                            "size": 10,
                            "solidity": 0.2
                          }
                        },
                        "type": "histogram"
                      }
                    ],
                    "histogram2d": [
                      {
                        "colorbar": {
                          "outlinewidth": 0,
                          "ticks": ""
                        },
                        "colorscale": [
                          [
                            0,
                            "#0d0887"
                          ],
                          [
                            0.1111111111111111,
                            "#46039f"
                          ],
                          [
                            0.2222222222222222,
                            "#7201a8"
                          ],
                          [
                            0.3333333333333333,
                            "#9c179e"
                          ],
                          [
                            0.4444444444444444,
                            "#bd3786"
                          ],
                          [
                            0.5555555555555556,
                            "#d8576b"
                          ],
                          [
                            0.6666666666666666,
                            "#ed7953"
                          ],
                          [
                            0.7777777777777778,
                            "#fb9f3a"
                          ],
                          [
                            0.8888888888888888,
                            "#fdca26"
                          ],
                          [
                            1,
                            "#f0f921"
                          ]
                        ],
                        "type": "histogram2d"
                      }
                    ],
                    "histogram2dcontour": [
                      {
                        "colorbar": {
                          "outlinewidth": 0,
                          "ticks": ""
                        },
                        "colorscale": [
                          [
                            0,
                            "#0d0887"
                          ],
                          [
                            0.1111111111111111,
                            "#46039f"
                          ],
                          [
                            0.2222222222222222,
                            "#7201a8"
                          ],
                          [
                            0.3333333333333333,
                            "#9c179e"
                          ],
                          [
                            0.4444444444444444,
                            "#bd3786"
                          ],
                          [
                            0.5555555555555556,
                            "#d8576b"
                          ],
                          [
                            0.6666666666666666,
                            "#ed7953"
                          ],
                          [
                            0.7777777777777778,
                            "#fb9f3a"
                          ],
                          [
                            0.8888888888888888,
                            "#fdca26"
                          ],
                          [
                            1,
                            "#f0f921"
                          ]
                        ],
                        "type": "histogram2dcontour"
                      }
                    ],
                    "mesh3d": [
                      {
                        "colorbar": {
                          "outlinewidth": 0,
                          "ticks": ""
                        },
                        "type": "mesh3d"
                      }
                    ],
                    "parcoords": [
                      {
                        "line": {
                          "colorbar": {
                            "outlinewidth": 0,
                            "ticks": ""
                          }
                        },
                        "type": "parcoords"
                      }
                    ],
                    "pie": [
                      {
                        "automargin": true,
                        "type": "pie"
                      }
                    ],
                    "scatter": [
                      {
                        "fillpattern": {
                          "fillmode": "overlay",
                          "size": 10,
                          "solidity": 0.2
                        },
                        "type": "scatter"
                      }
                    ],
                    "scatter3d": [
                      {
                        "line": {
                          "colorbar": {
                            "outlinewidth": 0,
                            "ticks": ""
                          }
                        },
                        "marker": {
                          "colorbar": {
                            "outlinewidth": 0,
                            "ticks": ""
                          }
                        },
                        "type": "scatter3d"
                      }
                    ],
                    "scattercarpet": [
                      {
                        "marker": {
                          "colorbar": {
                            "outlinewidth": 0,
                            "ticks": ""
                          }
                        },
                        "type": "scattercarpet"
                      }
                    ],
                    "scattergeo": [
                      {
                        "marker": {
                          "colorbar": {
                            "outlinewidth": 0,
                            "ticks": ""
                          }
                        },
                        "type": "scattergeo"
                      }
                    ],
                    "scattergl": [
                      {
                        "marker": {
                          "colorbar": {
                            "outlinewidth": 0,
                            "ticks": ""
                          }
                        },
                        "type": "scattergl"
                      }
                    ],
                    "scattermapbox": [
                      {
                        "marker": {
                          "colorbar": {
                            "outlinewidth": 0,
                            "ticks": ""
                          }
                        },
                        "type": "scattermapbox"
                      }
                    ],
                    "scatterpolar": [
                      {
                        "marker": {
                          "colorbar": {
                            "outlinewidth": 0,
                            "ticks": ""
                          }
                        },
                        "type": "scatterpolar"
                      }
                    ],
                    "scatterpolargl": [
                      {
                        "marker": {
                          "colorbar": {
                            "outlinewidth": 0,
                            "ticks": ""
                          }
                        },
                        "type": "scatterpolargl"
                      }
                    ],
                    "scatterternary": [
                      {
                        "marker": {
                          "colorbar": {
                            "outlinewidth": 0,
                            "ticks": ""
                          }
                        },
                        "type": "scatterternary"
                      }
                    ],
                    "surface": [
                      {
                        "colorbar": {
                          "outlinewidth": 0,
                          "ticks": ""
                        },
                        "colorscale": [
                          [
                            0,
                            "#0d0887"
                          ],
                          [
                            0.1111111111111111,
                            "#46039f"
                          ],
                          [
                            0.2222222222222222,
                            "#7201a8"
                          ],
                          [
                            0.3333333333333333,
                            "#9c179e"
                          ],
                          [
                            0.4444444444444444,
                            "#bd3786"
                          ],
                          [
                            0.5555555555555556,
                            "#d8576b"
                          ],
                          [
                            0.6666666666666666,
                            "#ed7953"
                          ],
                          [
                            0.7777777777777778,
                            "#fb9f3a"
                          ],
                          [
                            0.8888888888888888,
                            "#fdca26"
                          ],
                          [
                            1,
                            "#f0f921"
                          ]
                        ],
                        "type": "surface"
                      }
                    ],
                    "table": [
                      {
                        "cells": {
                          "fill": {
                            "color": "#EBF0F8"
                          },
                          "line": {
                            "color": "white"
                          }
                        },
                        "header": {
                          "fill": {
                            "color": "#C8D4E3"
                          },
                          "line": {
                            "color": "white"
                          }
                        },
                        "type": "table"
                      }
                    ]
                  },
                  "layout": {
                    "annotationdefaults": {
                      "arrowcolor": "#2a3f5f",
                      "arrowhead": 0,
                      "arrowwidth": 1
                    },
                    "autotypenumbers": "strict",
                    "coloraxis": {
                      "colorbar": {
                        "outlinewidth": 0,
                        "ticks": ""
                      }
                    },
                    "colorscale": {
                      "diverging": [
                        [
                          0,
                          "#8e0152"
                        ],
                        [
                          0.1,
                          "#c51b7d"
                        ],
                        [
                          0.2,
                          "#de77ae"
                        ],
                        [
                          0.3,
                          "#f1b6da"
                        ],
                        [
                          0.4,
                          "#fde0ef"
                        ],
                        [
                          0.5,
                          "#f7f7f7"
                        ],
                        [
                          0.6,
                          "#e6f5d0"
                        ],
                        [
                          0.7,
                          "#b8e186"
                        ],
                        [
                          0.8,
                          "#7fbc41"
                        ],
                        [
                          0.9,
                          "#4d9221"
                        ],
                        [
                          1,
                          "#276419"
                        ]
                      ],
                      "sequential": [
                        [
                          0,
                          "#0d0887"
                        ],
                        [
                          0.1111111111111111,
                          "#46039f"
                        ],
                        [
                          0.2222222222222222,
                          "#7201a8"
                        ],
                        [
                          0.3333333333333333,
                          "#9c179e"
                        ],
                        [
                          0.4444444444444444,
                          "#bd3786"
                        ],
                        [
                          0.5555555555555556,
                          "#d8576b"
                        ],
                        [
                          0.6666666666666666,
                          "#ed7953"
                        ],
                        [
                          0.7777777777777778,
                          "#fb9f3a"
                        ],
                        [
                          0.8888888888888888,
                          "#fdca26"
                        ],
                        [
                          1,
                          "#f0f921"
                        ]
                      ],
                      "sequentialminus": [
                        [
                          0,
                          "#0d0887"
                        ],
                        [
                          0.1111111111111111,
                          "#46039f"
                        ],
                        [
                          0.2222222222222222,
                          "#7201a8"
                        ],
                        [
                          0.3333333333333333,
                          "#9c179e"
                        ],
                        [
                          0.4444444444444444,
                          "#bd3786"
                        ],
                        [
                          0.5555555555555556,
                          "#d8576b"
                        ],
                        [
                          0.6666666666666666,
                          "#ed7953"
                        ],
                        [
                          0.7777777777777778,
                          "#fb9f3a"
                        ],
                        [
                          0.8888888888888888,
                          "#fdca26"
                        ],
                        [
                          1,
                          "#f0f921"
                        ]
                      ]
                    },
                    "colorway": [
                      "#636efa",
                      "#EF553B",
                      "#00cc96",
                      "#ab63fa",
                      "#FFA15A",
                      "#19d3f3",
                      "#FF6692",
                      "#B6E880",
                      "#FF97FF",
                      "#FECB52"
                    ],
                    "font": {
                      "color": "#2a3f5f"
                    },
                    "geo": {
                      "bgcolor": "white",
                      "lakecolor": "white",
                      "landcolor": "white",
                      "showlakes": true,
                      "showland": true,
                      "subunitcolor": "#C8D4E3"
                    },
                    "hoverlabel": {
                      "align": "left"
                    },
                    "hovermode": "closest",
                    "mapbox": {
                      "style": "light"
                    },
                    "paper_bgcolor": "white",
                    "plot_bgcolor": "white",
                    "polar": {
                      "angularaxis": {
                        "gridcolor": "#EBF0F8",
                        "linecolor": "#EBF0F8",
                        "ticks": ""
                      },
                      "bgcolor": "white",
                      "radialaxis": {
                        "gridcolor": "#EBF0F8",
                        "linecolor": "#EBF0F8",
                        "ticks": ""
                      }
                    },
                    "scene": {
                      "xaxis": {
                        "backgroundcolor": "white",
                        "gridcolor": "#DFE8F3",
                        "gridwidth": 2,
                        "linecolor": "#EBF0F8",
                        "showbackground": true,
                        "ticks": "",
                        "zerolinecolor": "#EBF0F8"
                      },
                      "yaxis": {
                        "backgroundcolor": "white",
                        "gridcolor": "#DFE8F3",
                        "gridwidth": 2,
                        "linecolor": "#EBF0F8",
                        "showbackground": true,
                        "ticks": "",
                        "zerolinecolor": "#EBF0F8"
                      },
                      "zaxis": {
                        "backgroundcolor": "white",
                        "gridcolor": "#DFE8F3",
                        "gridwidth": 2,
                        "linecolor": "#EBF0F8",
                        "showbackground": true,
                        "ticks": "",
                        "zerolinecolor": "#EBF0F8"
                      }
                    },
                    "shapedefaults": {
                      "line": {
                        "color": "#2a3f5f"
                      }
                    },
                    "ternary": {
                      "aaxis": {
                        "gridcolor": "#DFE8F3",
                        "linecolor": "#A2B1C6",
                        "ticks": ""
                      },
                      "baxis": {
                        "gridcolor": "#DFE8F3",
                        "linecolor": "#A2B1C6",
                        "ticks": ""
                      },
                      "bgcolor": "white",
                      "caxis": {
                        "gridcolor": "#DFE8F3",
                        "linecolor": "#A2B1C6",
                        "ticks": ""
                      }
                    },
                    "title": {
                      "x": 0.05
                    },
                    "xaxis": {
                      "automargin": true,
                      "gridcolor": "#EBF0F8",
                      "linecolor": "#EBF0F8",
                      "ticks": "",
                      "title": {
                        "standoff": 15
                      },
                      "zerolinecolor": "#EBF0F8",
                      "zerolinewidth": 2
                    },
                    "yaxis": {
                      "automargin": true,
                      "gridcolor": "#EBF0F8",
                      "linecolor": "#EBF0F8",
                      "ticks": "",
                      "title": {
                        "standoff": 15
                      },
                      "zerolinecolor": "#EBF0F8",
                      "zerolinewidth": 2
                    }
                  }
                },
                "title": {
                  "text": "Oczekiwana długość życia w krajach europejskich w roku 2007"
                },
                "xaxis": {
                  "tickvals": [
                    0,
                    40,
                    80
                  ],
                  "title": {
                    "text": "Oczekiwana długość życia"
                  }
                },
                "yaxis": {
                  "title": {
                    "text": "Kraje"
                  }
                }
              }
            }
          },
          "metadata": {},
          "output_type": "display_data"
        }
      ],
      "source": [
        "fig = go.Figure(data=[go.Bar(\n",
        "    x=data_europe_2007_sorted['lifeExp'],\n",
        "    y=data_europe_2007_sorted['country'],\n",
        "    orientation='h',\n",
        "    marker_color=colors  \n",
        ")])\n",
        "\n",
        "fig.update_layout(title='Oczekiwana długość życia w krajach europejskich w roku 2007', \n",
        "                  xaxis_title='Oczekiwana długość życia', \n",
        "                  yaxis_title='Kraje',\n",
        "                  height=30 * len(data_europe_2007_sorted),\n",
        "                  template='plotly_white')\n",
        "\n",
        "fig.update_xaxes(title_text='Oczekiwana długość życia', tickvals=[0, 40, 80])  # Ustawienie niestandardowych wartości ticków na osi X\n",
        "\n",
        "fig.show()"
      ]
    }
  ],
  "metadata": {
    "colab": {
      "provenance": []
    },
    "kernelspec": {
      "display_name": "Python 3 (ipykernel)",
      "language": "python",
      "name": "python3"
    },
    "language_info": {
      "codemirror_mode": {
        "name": "ipython",
        "version": 3
      },
      "file_extension": ".py",
      "mimetype": "text/x-python",
      "name": "python",
      "nbconvert_exporter": "python",
      "pygments_lexer": "ipython3",
      "version": "3.10.11"
    }
  },
  "nbformat": 4,
  "nbformat_minor": 5
}
